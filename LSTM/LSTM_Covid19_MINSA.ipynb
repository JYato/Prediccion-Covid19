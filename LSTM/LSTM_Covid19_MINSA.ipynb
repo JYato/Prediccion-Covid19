{
  "nbformat": 4,
  "nbformat_minor": 0,
  "metadata": {
    "kernelspec": {
      "display_name": "Python 3.7.7 64-bit",
      "language": "python",
      "name": "python37764bit96f01e21718e4123bee59d862594da84"
    },
    "language_info": {
      "codemirror_mode": {
        "name": "ipython",
        "version": 3
      },
      "file_extension": ".py",
      "mimetype": "text/x-python",
      "name": "python",
      "nbconvert_exporter": "python",
      "pygments_lexer": "ipython3",
      "version": "3.7.7-final"
    },
    "colab": {
      "name": "LSTM_Covid19_MINSA.ipynb",
      "provenance": [],
      "collapsed_sections": []
    },
    "accelerator": "GPU"
  },
  "cells": [
    {
      "cell_type": "markdown",
      "metadata": {
        "id": "3FoFI6GsBYDF"
      },
      "source": [
        "# **Librerías**\r\n",
        "\r\n"
      ]
    },
    {
      "cell_type": "code",
      "metadata": {
        "id": "H-vvpEXfex94"
      },
      "source": [
        "#COVID 19 Peru\n",
        "#COVID 19 Arequipa\n",
        "import pandas as pd\n",
        "import numpy as np\n",
        "import random \n",
        "import matplotlib.pyplot as plt\n",
        "import datetime\n",
        "\n",
        "from sklearn.metrics import mean_squared_error, mean_absolute_error\n",
        "\n",
        "plt.style.use('seaborn-whitegrid')\n",
        "%matplotlib inline"
      ],
      "execution_count": 1,
      "outputs": []
    },
    {
      "cell_type": "code",
      "metadata": {
        "id": "MY8WM0jFex99"
      },
      "source": [
        "import time\n",
        "import torch\n",
        "import statistics\n",
        "\n",
        "import seaborn as sns\n",
        "\n",
        "from sklearn.preprocessing import StandardScaler\n",
        "\n",
        "from tqdm             import tqdm\n",
        "from IPython.display  import display \n",
        "\n",
        "from torch import nn\n",
        "from torch import optim\n",
        "from torch.optim import lr_scheduler\n",
        "\n",
        "from sklearn.linear_model import LinearRegression, BayesianRidge\n",
        "from sklearn.model_selection import RandomizedSearchCV, train_test_split\n",
        "from sklearn.preprocessing import PolynomialFeatures\n",
        "from sklearn.tree import DecisionTreeRegressor\n",
        "from sklearn.svm import SVR"
      ],
      "execution_count": 2,
      "outputs": []
    },
    {
      "cell_type": "code",
      "metadata": {
        "id": "GMAEAtymex99"
      },
      "source": [
        "#Valores para resultados reproducibles\n",
        "torch.manual_seed(10)\n",
        "torch.cuda.manual_seed(10)\n",
        "np.random.seed(10)\n",
        "torch.backends.cudnn.deterministic = True"
      ],
      "execution_count": 3,
      "outputs": []
    },
    {
      "cell_type": "markdown",
      "metadata": {
        "id": "F_Jfmk7uBhQD"
      },
      "source": [
        "# **Exploración y lectura de Datos**"
      ]
    },
    {
      "cell_type": "code",
      "metadata": {
        "id": "ZmZ8Z2QRex9-",
        "colab": {
          "base_uri": "https://localhost:8080/",
          "height": 35
        },
        "outputId": "00dac34f-359d-4904-bfd3-f11c9ee1fa8d"
      },
      "source": [
        "torch.cuda.current_device()\n",
        "torch.cuda.device(0)\n",
        "torch.cuda.device_count()\n",
        "torch.cuda.get_device_name(0)"
      ],
      "execution_count": 4,
      "outputs": [
        {
          "output_type": "execute_result",
          "data": {
            "application/vnd.google.colaboratory.intrinsic+json": {
              "type": "string"
            },
            "text/plain": [
              "'Tesla T4'"
            ]
          },
          "metadata": {
            "tags": []
          },
          "execution_count": 4
        }
      ]
    },
    {
      "cell_type": "code",
      "metadata": {
        "id": "BfK9SmDoex9_",
        "colab": {
          "base_uri": "https://localhost:8080/"
        },
        "outputId": "ee03f245-e65b-4ae0-e8e4-a6f1496afbcf"
      },
      "source": [
        "torch.cuda.is_available()"
      ],
      "execution_count": 5,
      "outputs": [
        {
          "output_type": "execute_result",
          "data": {
            "text/plain": [
              "True"
            ]
          },
          "metadata": {
            "tags": []
          },
          "execution_count": 5
        }
      ]
    },
    {
      "cell_type": "markdown",
      "metadata": {
        "id": "qBQSetCGFHo7"
      },
      "source": [
        "Casos Positivos\r\n",
        "https://www.datosabiertos.gob.pe/dataset/casos-positivos-por-covid-19-ministerio-de-salud-minsa\r\n",
        "\r\n",
        "Fallecidos\r\n",
        "https://www.datosabiertos.gob.pe/dataset/fallecidos-por-covid-19-ministerio-de-salud-minsa\r\n"
      ]
    },
    {
      "cell_type": "code",
      "metadata": {
        "colab": {
          "base_uri": "https://localhost:8080/"
        },
        "id": "99aQj4oG3n_C",
        "outputId": "c7a48fa1-dd34-472a-95a9-cd76d2055e90"
      },
      "source": [
        "from google.colab import drive\r\n",
        "drive.mount('/content/gdrive')\r\n",
        "\r\n",
        "!ln -s /content/gdrive/My\\ Drive/ /mydrive\r\n",
        "!ls /mydrive\r\n",
        "\r\n",
        "#/mydrive/Colab\\ Notebooks/Firearm/Gun/0a1a98d301f0fdb80b4d2c661d7be95baf24a81c.JPEG\r\n",
        "\r\n",
        "file_pos = \"/mydrive/ProyectoIA/positivos_covid\"\r\n",
        "file_death = \"/mydrive/ProyectoIA/fallecidos_covid\""
      ],
      "execution_count": 6,
      "outputs": [
        {
          "output_type": "stream",
          "text": [
            "Mounted at /content/gdrive\n",
            "'08 01 17 | L10 | [Condensed] Dynamic Programming I.gslides'\n",
            " 08-address-translation.gslides\n",
            " 09-caches-tlbs.gslides\n",
            " 10-pagereplace.gslides\n",
            " 11-io.pptx\n",
            " 12-filesystems.ppt\n",
            " 13-FileSystems.pptx\n",
            " 14-Virtualization.pptx\n",
            " 15-fault-tolerance.gslides\n",
            " 15-fault-tolerance.ppt\n",
            " 2020_MATCOMP_CCOMP6_1_Sergio_AquiseEXFINALFORMATO.gdoc\n",
            "'3. Disposiciones'\n",
            "'5 Artículos.gdoc'\n",
            "'A Few Good Men -  Cuestión de Honor.gdoc'\n",
            "'Agenda 2020 I.gdoc'\n",
            "'Agenda 2020-II.gdoc'\n",
            " AHYA\n",
            "'Algoritmo de Viterbi_.gslides'\n",
            "'A Novel Graph-Based Energy Management System (1).gdoc'\n",
            "'A Novel Graph-Based Energy Management System.gdoc'\n",
            "'Artículo Tópicos IA Covid.gdoc'\n",
            "'Avance 1 Proyectos.gdoc'\n",
            "'Avance curricular hasta ahora- GPA.gsheet'\n",
            " AVANCEII.pdf\n",
            "'avance pat-des.odt'\n",
            " Avl_tree.cpp\n",
            " BASE-01.pptx.gslides\n",
            "'Bases de Datos II (1).ppt'\n",
            "'Bases de Datos II.gslides'\n",
            "'Bases de Datos II.ppt'\n",
            "'Bases de Datos II.ppt.gslides'\n",
            "'BD2 Isolation examples.gdoc'\n",
            "'BD2 LSA.gslides'\n",
            "'Big Data Model Simulation on a Graph Database for Surveillance in Wireless Multimedia Sensor Networks.gdoc'\n",
            " b.jpeg\n",
            "'blendcont comandos instalar .gdoc'\n",
            "'CAP 4 - MY PART PARELELOS.gdoc'\n",
            "'Capítulo 1 .gdoc'\n",
            "'Capítulo 5: PERFORMANCE CONSIDERATIONS.gslides'\n",
            " CARATULA.gdoc\n",
            "'Caratula Grupos.gdoc'\n",
            "'Casos de Uso - Especificación.gslides'\n",
            "'Casos de uso: Gestor Lechero.gslides'\n",
            "'Casos de Uso.png'\n",
            "'CASSANDRA DATABASE.gslides'\n",
            " Ch22.gslides\n",
            " Ch22.pptx\n",
            " Ch23.pptx\n",
            " Ch2.pptx\n",
            " Ch3.pptx\n",
            " Chapter_2.gslides\n",
            " Chapter_4_V6.2.ppt\n",
            " Chapter_5_V6.01.ppt\n",
            "'Chapter_6_V6.0(org).ppt'\n",
            "'Chapter_7_V6.0 (org).ppt'\n",
            " Chat\n",
            " clascafe.ipynb\n",
            " Classroom\n",
            " clip_herramientas.mp4\n",
            "'Colab Notebooks'\n",
            " Compiladores.gdoc\n",
            "'Configurar la red.gdoc'\n",
            "'consultas random sql.gdoc'\n",
            "'Contenido Diapos Bamboo.gdoc'\n",
            " control1.jpeg\n",
            " control.jpeg\n",
            "'Copia1 de Lowest Common Ancestor.gslides'\n",
            "'Copia de 07 27 17 | L9 | [Condensed] Greedy Algorithms II.gslides'\n",
            "'Copia de 08 03 17 | L11 | [Condensed] Dynamic Programming II.gslides'\n",
            "'Copia de Beetweenness Centrality.pptx'\n",
            "'Copia de Business Model Canvas Blog.gdraw'\n",
            "'Copia de Chapter_1_V6.1.pptx'\n",
            "'Copia de Chapter_2_V6.2.pptx'\n",
            "'Copia de Chapter_3_V6.0.pptx'\n",
            "'Copia de Densidad de grafos.gslides'\n",
            "'Copia de Examen recopilado.gdoc'\n",
            "'Copia de FIBONACCI HEAP.gslides'\n",
            "'Copia de Gráficos.gdoc'\n",
            "'Copia de maxflow2 (1).gslides'\n",
            "'Copia de maxflow2.gslides'\n",
            "'Copia de Paralelización del Algoritmo RSA.gslides'\n",
            "'Copia de Plan de trabajo oficial.docx'\n",
            "'Copia de Practica 0 Compiladores.docx'\n",
            "'Copia de Practica 1 Compiladores.docx'\n",
            "'Copia de Presentación general.gslides'\n",
            "'Copia de Pruebas Unitarias .gdoc'\n",
            "'Copia de Reuniones Virtuales Curso Proyectos.gsheet'\n",
            "'Copia de Shift And Or.pptx'\n",
            "'Copia de Shift and -Shift Or Boyer Moore -KMP.gslides'\n",
            "'Copia de SLA - Aiuda a Shorel y Pierofilo.gdoc'\n",
            "'Copia de Sweep Line.gslides'\n",
            "'Copia de Table.docx'\n",
            "'Copia de TRIES Y ARBOL PATRICIA.pptx'\n",
            "'Corpus Google-20180908T135430Z-001.zip'\n",
            "'COVID LSTM.gdoc'\n",
            " CP.gslides\n",
            "'CRONOGRAMA T1 (1).docx.gdoc'\n",
            "'CRONOGRAMA T1 (2).docx.gdoc'\n",
            "'CRONOGRAMA T1 (3).docx.gdoc'\n",
            "'CRONOGRAMA T1 (4).docx.gdoc'\n",
            "'CRONOGRAMA T1 (5).docx.gdoc'\n",
            "'CRONOGRAMA T1 (6).docx.gdoc'\n",
            "'CRONOGRAMA T1.docx.gdoc'\n",
            "'Cronograma Trabajo Final.xlsx'\n",
            "'cuda cap 5 guion.gdoc'\n",
            "'Cuestionario 1 Compiladores.gdoc'\n",
            "'Cuestionario 2 Compiladores.gdoc'\n",
            "'Cuestionario calificado de Historia.gform'\n",
            "'Cuestionario cap 2 CUDA.gdoc'\n",
            "'Cuestionario de Computación en la Sociedad 2.gdoc'\n",
            "'Data Types.gslides'\n",
            "'Declaración jurada.gdoc'\n",
            "'Design and implementation of a reservation-based MAC protocol for voice data over IEEE 802.gdoc'\n",
            "'Detección de Armas en Videos en Tiempo Real usando CNN.gslides'\n",
            "'Detección de Armas usando técnicas CNN.gdoc'\n",
            "'Deteccion rostros.gdoc'\n",
            "'Diagramas de Secuencia PPT.gslides'\n",
            "'Diferencias Having Where.gdoc'\n",
            " dijkstra.cpp\n",
            " dijkstra_hash.bin\n",
            " dijkstra_hash.cpp\n",
            "'Diseño de Pruebas (recuperado).gdoc'\n",
            "'Disposiciones Particulares Sobre Créditos De Formación Por Actividades Extracurriculares.pdf'\n",
            " DISTRESS.gdoc\n",
            " document.339TIZ-PROPUESTA-1.pdf\n",
            "'Documentación de trabajo Final.docx'\n",
            "'Documento Final Proyectos.gdoc'\n",
            "'Documentos de Evaluación económica.gdoc'\n",
            "'Documento sin título (10).gdoc'\n",
            "'Documento sin título (11).gdoc'\n",
            "'Documento sin título (12).gdoc'\n",
            "'Documento sin título (13).gdoc'\n",
            "'Documento sin título (14).gdoc'\n",
            "'Documento sin título (15).gdoc'\n",
            "'Documento sin título (16).gdoc'\n",
            "'Documento sin título (17).gdoc'\n",
            "'Documento sin título (1).gdoc'\n",
            "'Documento sin título (2).gdoc'\n",
            "'Documento sin título (3).gdoc'\n",
            "'Documento sin título (4).gdoc'\n",
            "'Documento sin título (5).gdoc'\n",
            "'Documento sin título (6).gdoc'\n",
            "'Documento sin título (7).gdoc'\n",
            "'Documento sin título (8).gdoc'\n",
            "'Documento sin título (9).gdoc'\n",
            "'Documento sin título.gdoc'\n",
            "'document.TDW8IZ-PROPUESTA-2 (1).pdf'\n",
            " DRAPH.gdoc\n",
            " DSC_0221.JPG\n",
            " DSC_0222.JPG\n",
            " DSC_0223.JPG\n",
            " DSC_0224.JPG\n",
            " DSC_0225.JPG\n",
            " DSC_0226.JPG\n",
            " DSC_0227.JPG\n",
            " DSC_0228.JPG\n",
            " DSC_0229.JPG\n",
            " DSC_0230.JPG\n",
            " DSC_0462.JPG\n",
            " DSC_0463.JPG\n",
            " DSC_0464.JPG\n",
            " DSC_0465.JPG\n",
            " DSC_0466.JPG\n",
            " DSC_0467.JPG\n",
            " DSC_0468.JPG\n",
            " DSC_0469.JPG\n",
            " ejecutable\n",
            "'Ejemplo Bamboo.gdoc'\n",
            " e.jpeg\n",
            "'El existencialismo, el gran movimiento cultural que sucede a la Primera Guerra Mundial.gdoc'\n",
            "'Encuesta Vida  Diaria Personal.gform'\n",
            " Entrevista.gdoc\n",
            "'Especificacion Casos de Uso  (recuperado).gdoc'\n",
            "'especificacion compleja.xml'\n",
            "'Especificaciones Diagrama de Componentes.gdoc'\n",
            "'Especificaciones Estrategia.gdoc'\n",
            " Especificaciones.gdoc\n",
            "'Especificaciones SCIO.gdoc'\n",
            " Especificacion.gsheet\n",
            "'EXAMEN MATEMÁTICA APLICADA.gdoc'\n",
            "'Examen Practico AED'\n",
            "'expo Proyecto final de carrera I.gdoc'\n",
            " fisica-2018-02.pptx\n",
            " fourier.cpp\n",
            "'Fundamentos de Sistemas Operativos - 7ma Edición - Abraham Silberschatz, Peter Baer Galvin & Greg Gagne.pdf'\n",
            " gaaa.gdoc\n",
            "\"'''.gdoc\"\n",
            " g.jpeg\n",
            "'Google BigTable.gdoc'\n",
            "'Gramática DRAPH.gdoc'\n",
            "'GUIAS-6-11 2017 A (1).pdf'\n",
            "'Guion expo compu sociedad.gdoc'\n",
            "'Guion expo mejora.gdoc'\n",
            "'Guion Final Proyectos I.gdoc'\n",
            " Guion.gdoc\n",
            "'Guión LSTM Final Tópicos IA.gdoc'\n",
            "'Guion Paper.gdoc'\n",
            "'Hablar Correctamente.gslides'\n",
            " hash_dijsktra.bin\n",
            " hash_dijsktra.cpp\n",
            " Haskell-Graham.pdf\n",
            "'HeapFibo y XFAST.gslides'\n",
            " Heapsort.gdoc\n",
            "'Herramientas Digitales - Tarea Jamboard.gjam'\n",
            "'Hoja de cálculo sin título (1).gsheet'\n",
            "'Hoja de cálculo sin título (2).gsheet'\n",
            "'Hoja de cálculo sin título.gsheet'\n",
            "'Horario 2020 II.gsheet'\n",
            "'hw3.zip (Unzipped Files)'\n",
            "'hw3.zip (Unzipped Files) (1)'\n",
            "'hw4.zip (Unzipped Files)'\n",
            "'Ideas Formación de Empresas.gdoc'\n",
            "'Igor In the Museum.gslides'\n",
            " IMAG0933.jpg\n",
            " IMG_20191108_154350.jpg\n",
            " IMG_20191108_154405.jpg\n",
            " IMG_20191108_154412.jpg\n",
            "'Informe Lab Paralelos 1 octubre.gdoc'\n",
            "'Informe Paralelos 8 octubre.gdoc'\n",
            "'Ingenieria del Software 7ma. Ed. - Ian Sommerville.pdf'\n",
            "'INGSW Parcial Practico 2018-2.pdf'\n",
            " input2.txt\n",
            " input.txt\n",
            "'Inteligencia Artificial TF.gslides'\n",
            "'Investigación sobre Startups.gdoc'\n",
            " jiyuke.pdf\n",
            "'Jzzhu and Cities.gslides'\n",
            "'KEFA AND PARK.gslides'\n",
            "'Key Value NoSQL.gdoc'\n",
            "'Lab01 Socket programming.gslides'\n",
            "'Lab01 Socket programming.ppsx'\n",
            "'Lab 1 Eda.gsheet'\n",
            "'LA PRODUCCIÓN DEL DISCURSO ORAL.gdoc'\n",
            "'LCA meewtoo.gslides'\n",
            " Lecture-3-5-transparent-scaling.gslides\n",
            "'LEY DE AMDAHL Y LEY DE GUSTAVSON.gdoc'\n",
            "'Ley de .gdoc'\n",
            "'Libros IS'\n",
            "'Liderazgo Perfil politico y candidatos.gdoc'\n",
            "'Link del github con el contenido.gdoc'\n",
            " link.txt\n",
            "'Lowest Common Ancestor.gslides'\n",
            " Mallas.pdf\n",
            "'Manual de Referencia DRAPH.gdoc'\n",
            "'MATEMÁTICA APLICADA TRABAJO_final_2020_Jeisson_Yato.gdoc'\n",
            "'Material Redes'\n",
            "'Meet Recordings'\n",
            "'Métricas accionables: enlaza acciones espec ́ıficas yrepetibles a resultados observados.gdoc'\n",
            " Métricas.gslides\n",
            "'mike 2.docx'\n",
            "'mike 3.docx'\n",
            " mike.docx\n",
            " mike.odt\n",
            " Monografía.gdoc\n",
            "'Mosix - VCL.gdoc'\n",
            "'Movimiento Circular No Uniforme.gslides'\n",
            " Musica_teatro\n",
            " MVP.gslides\n",
            " NTL\n",
            " operating-system-concepts-10th.pdf\n",
            "'Packet Tracer.gdoc'\n",
            "'Paper IA.gdoc'\n",
            "'Paper Proyectos parcial.gdoc'\n",
            "'Paralelización del Algoritmo RSA final.gslides'\n",
            "'Paralelización RSA parcial.gslides'\n",
            "'Paralelos Modificaciones al modelo de Von Neumann.gdoc'\n",
            "'Parallelized RSA Algorithm.gslides'\n",
            " parciales\n",
            "'Parcial Proyectos.gdoc'\n",
            " PCA_FR.zip\n",
            " PH-TREE.gslides\n",
            "'Plan Curricular'\n",
            "'PLAN DE MEJORA PERSONAL.gdoc'\n",
            " Planets.gslides\n",
            "'Plantilla - whistle blowing.pdf'\n",
            "'Posible Horario 2019 II.gsheet'\n",
            "'Posible Horario 2020 - I.gsheet'\n",
            "'Practica 1 LP - Jason.gsheet'\n",
            "'Practica 1 LP - Jason.xlsx'\n",
            "'Práctica 1 Matemática Aplicada.gdoc'\n",
            "'Practica compiladores automatas.gdoc'\n",
            "'Práctica Matemática Aplicada (1).gdoc'\n",
            "'Práctica Matemática Aplicada.gdoc'\n",
            "'Práctica - Predictive Parser Compiladores.gdoc'\n",
            "'Preguntas clase OS 15-11-2019.gdoc'\n",
            "'Preguntas Entrevista.gdoc'\n",
            "'Preguntas Liderazgo 5ta Unidad.gdoc'\n",
            "'Preguntas Liderazgo Grupal.gdoc'\n",
            "'Presentación Paper - Rastreo de Requisitos - Gráfico circular 1.gsheet'\n",
            "'Presentación Paper - Rastreo de Requisitos.gslides'\n",
            "'Presentación sin título (1).gslides'\n",
            "'Presentación sin título (2).gslides'\n",
            "'Presentación sin título (3).gslides'\n",
            "'Presentación sin título.gslides'\n",
            "'Presentación Survey.gslides'\n",
            "'Proforma Kleider.gdoc'\n",
            " prove.gdoc\n",
            "'Proyecto_Final_de_Carrera_I_ Parcial.pdf'\n",
            " ProyectoIA\n",
            " prueba.gdoc\n",
            "'Pruebas de Sistema (recuperado) (1).gdoc'\n",
            "'Pruebas de Sistema (recuperado).gdoc'\n",
            "'Pruebas sobre la memoria caché.gsheet'\n",
            "'Pruebas Unitarias (recuperado).gdoc'\n",
            " prueba.txt\n",
            "'PUBLICACION LISTAS DE ESPERA 11032016.xlsx (recuperado).gsheet'\n",
            " quicksorts.bin\n",
            " quicksorts.cpp\n",
            " REDES.gdoc\n",
            "'Redes repaso.gdoc'\n",
            "'Reglamento de Estudiantes Pregrado.pdf'\n",
            "'Regresión múltiple - PCA.gslides'\n",
            "'Relación entre Humanismo y Renacimiento.gdoc'\n",
            "'Relacion Profesores - Universidad Master y o Doctorado.gsheet'\n",
            " Repaso_Compet.gdoc\n",
            "'Repaso Compiladores.gdoc'\n",
            "'Réplica Paralelos.gdoc'\n",
            " Requisitos.gsheet\n",
            " Resolucion_control-4.pdf\n",
            "'respaldo especificaciones .gdoc'\n",
            "'respuesta automática.txt'\n",
            "'Resultados Parciales - Entrevista.gdoc'\n",
            "'Resultados parciales Entrevistas - Gráfico de barras 4.gsheet'\n",
            "'Resultados parciales Entrevistas - Gráfico de columnas 5.gsheet'\n",
            "'Resultados parciales Entrevistas - Gráfico de líneas 4.gsheet'\n",
            "'Resumen de Teología.gdoc'\n",
            "'Resumen Paper 3 Redes.gdoc'\n",
            "'Resumen Paper 4 Redes.gdoc'\n",
            "'Resumen Paper conferencia.gdoc'\n",
            "'Resumen Paper Quic.gdoc'\n",
            "'Resumen papers de Survey.gdoc'\n",
            "'Resumen QUIC Redes .gdoc'\n",
            " rQUIC.gdoc\n",
            "'RT-WiFi: Real-Time High-Speed Communication Protocol for Wireless Cyber-Physical Control Applications.gdoc'\n",
            "'Screenshots IA Verano.gdoc'\n",
            "'Secret Passwords.gslides'\n",
            "'Securing MultiPath TCP.gdoc'\n",
            " sintesistoctoc.odt\n",
            " sintesistoctoc.xml\n",
            "'Sistema gestor de ganado lechero.gsheet'\n",
            "'Sistema gestor de ganado lechero.gslides'\n",
            "'SO Informe.gdoc'\n",
            "'Spongebob and Joke.gslides'\n",
            "'STIG-Final (1).gslides'\n",
            " STIG-Final.gslides\n",
            " STIG.gdoc\n",
            "'Subnetting 1.gdoc'\n",
            "'Subnetting 2.gdoc'\n",
            "'SUBSET SUM (1).gslides'\n",
            "'SUBSET SUM.gslides'\n",
            "'SUBSET SUM.pptx'\n",
            "'Suffix Tree.gslides'\n",
            "'supuesto control 2 mate aplicada.gdoc'\n",
            "'survey cuadros.gdoc'\n",
            " Survey_new.pdf\n",
            "'Sweep Line - Convex Hull_.gslides'\n",
            " Table.docx\n",
            "'Taller Herramientas-D_Jeisson_Yato'\n",
            "'Tarea 01 - Uso de hojas de cálculo.gsheet'\n",
            "'Tarea BDII - 3.gdoc'\n",
            "'Tarea OS 25 JUNIO.gdoc'\n",
            "'tarea OS Conceptos.gdoc'\n",
            "'tarea scio.gdoc'\n",
            "'TASAS APRENDIZAJE.gdoc'\n",
            "'TDM MAC Protocol Design and Implementation for Wireless Mesh Networks.gdoc'\n",
            " Teatro.pptx\n",
            " Teleperu\n",
            " tensorflow\n",
            "'Teoría cerebro triuno - líder nace o se hace.gdoc'\n",
            "'texto video idiota contra el islam.gdoc'\n",
            "'Título de la hoja de cálculo.gform'\n",
            " Topic_model_scheme.webm.480p.webm\n",
            " TopicosIA\n",
            " TRABAJO_final_2020.gdoc\n",
            "'Trabajo Final - Redes y Comunicación.gdoc'\n",
            "'Trabajo Práctico 2 - Desarrollo Basado en Plataformas.gdoc'\n",
            "'Traduccion el otro.gdoc'\n",
            "'Traducción Paper 1 SP Redes.gdoc'\n",
            "'traduccion paper 2.gdoc'\n",
            "'Traducción paper 2 SP Redes.gdoc'\n",
            "'Traduccion paper 3.gdoc'\n",
            "'Traducción paper 3 SP Redes.gdoc'\n",
            "'Traducción paper 4 SP REDES.gdoc'\n",
            "'Traducción Papers Redes.gdoc'\n",
            " TRANSACCIONES.gdoc\n",
            "'U3 FE Y RAZON.docx'\n",
            "'Ubuntu-14.04-LTS-Jeos.zip (Unzipped Files)'\n",
            "'Using metrics in Agile and Lean Software Development – A systematic literature review of industrial studies.gslides'\n",
            "'Veritas CAP 4 - MY PART PARELELOS.gdoc'\n",
            " vgg16_fast_rcnn_cascade_firearms_iter_60000.caffemodel\n",
            "'Vocaroo 19 Nov 2020 04_20_00 GMT-0500 1cksFusOnNGm.mp3'\n",
            "'whistle blowing 1.gdoc'\n",
            "'whistle blowing 2.gdoc'\n",
            "'xml de casos de uso'\n",
            "'Yato Ch2.pptx'\n",
            "'Yato de Ch3.pptx'\n",
            " yolov3\n"
          ],
          "name": "stdout"
        }
      ]
    },
    {
      "cell_type": "code",
      "metadata": {
        "id": "tUXSgWPWex9_"
      },
      "source": [
        "def LeerDatos(filename : str, header = True):\n",
        "    if (header):\n",
        "        date_cols = ['FECHA_RESULTADO']\n",
        "        #dateparse = lambda x: pd.datetime.strptime(x, \"%d/%m/%Y\")\n",
        "        dateparse = lambda x: pd.datetime.strptime(x, \"%Y%m%d\")\n",
        "        data = pd.read_csv(filename + \".csv\", sep =';', header = 0, encoding = \"ISO-8859-1\")\n",
        "    else:\n",
        "        data = pd.read_csv(filename+ \".csv\", sep =',', header = None)\n",
        "    #data = data.sort_values(data.columns[-1])\n",
        "    #return np.array(data.iloc[:,:])\n",
        "    #return data.to_numpy()\n",
        "    return data"
      ],
      "execution_count": 7,
      "outputs": []
    },
    {
      "cell_type": "code",
      "metadata": {
        "id": "L8-nv9gHex9_"
      },
      "source": [
        "data_pos = LeerDatos(file_pos)\n",
        "data_fa = LeerDatos(file_death)"
      ],
      "execution_count": 8,
      "outputs": []
    },
    {
      "cell_type": "code",
      "metadata": {
        "colab": {
          "base_uri": "https://localhost:8080/",
          "height": 407
        },
        "id": "KdkHYvZegDzZ",
        "outputId": "38f4b83f-fd82-4af7-a219-419346cc6121"
      },
      "source": [
        "data_pos"
      ],
      "execution_count": 9,
      "outputs": [
        {
          "output_type": "execute_result",
          "data": {
            "text/html": [
              "<div>\n",
              "<style scoped>\n",
              "    .dataframe tbody tr th:only-of-type {\n",
              "        vertical-align: middle;\n",
              "    }\n",
              "\n",
              "    .dataframe tbody tr th {\n",
              "        vertical-align: top;\n",
              "    }\n",
              "\n",
              "    .dataframe thead th {\n",
              "        text-align: right;\n",
              "    }\n",
              "</style>\n",
              "<table border=\"1\" class=\"dataframe\">\n",
              "  <thead>\n",
              "    <tr style=\"text-align: right;\">\n",
              "      <th></th>\n",
              "      <th>ï»¿FECHA_CORTE</th>\n",
              "      <th>UUID</th>\n",
              "      <th>DEPARTAMENTO</th>\n",
              "      <th>PROVINCIA</th>\n",
              "      <th>DISTRITO</th>\n",
              "      <th>METODODX</th>\n",
              "      <th>EDAD</th>\n",
              "      <th>SEXO</th>\n",
              "      <th>FECHA_RESULTADO</th>\n",
              "    </tr>\n",
              "  </thead>\n",
              "  <tbody>\n",
              "    <tr>\n",
              "      <th>0</th>\n",
              "      <td>20201209</td>\n",
              "      <td>7320cabdc1aaca6c59014cae76a134e6</td>\n",
              "      <td>LIMA REGION</td>\n",
              "      <td>EN INVESTIGACIÃN</td>\n",
              "      <td>EN INVESTIGACIÃN</td>\n",
              "      <td>PCR</td>\n",
              "      <td>41.0</td>\n",
              "      <td>MASCULINO</td>\n",
              "      <td>20200527.0</td>\n",
              "    </tr>\n",
              "    <tr>\n",
              "      <th>1</th>\n",
              "      <td>20201209</td>\n",
              "      <td>e81602051997ace8340bb8c18fe24c65</td>\n",
              "      <td>LIMA</td>\n",
              "      <td>LIMA</td>\n",
              "      <td>BREÃA</td>\n",
              "      <td>PCR</td>\n",
              "      <td>41.0</td>\n",
              "      <td>MASCULINO</td>\n",
              "      <td>20200511.0</td>\n",
              "    </tr>\n",
              "    <tr>\n",
              "      <th>2</th>\n",
              "      <td>20201209</td>\n",
              "      <td>cecdbf10074dbc011ae05b3cbd320a6f</td>\n",
              "      <td>LIMA</td>\n",
              "      <td>LIMA</td>\n",
              "      <td>LIMA</td>\n",
              "      <td>PCR</td>\n",
              "      <td>51.0</td>\n",
              "      <td>MASCULINO</td>\n",
              "      <td>20200411.0</td>\n",
              "    </tr>\n",
              "    <tr>\n",
              "      <th>3</th>\n",
              "      <td>20201209</td>\n",
              "      <td>71ecb6bccb248b0bb2ac72ed51b5e979</td>\n",
              "      <td>LIMA</td>\n",
              "      <td>LIMA</td>\n",
              "      <td>SAN BORJA</td>\n",
              "      <td>PCR</td>\n",
              "      <td>26.0</td>\n",
              "      <td>FEMENINO</td>\n",
              "      <td>20200411.0</td>\n",
              "    </tr>\n",
              "    <tr>\n",
              "      <th>4</th>\n",
              "      <td>20201209</td>\n",
              "      <td>566af4276cbe9359abe93f9aa86396c3</td>\n",
              "      <td>CALLAO</td>\n",
              "      <td>CALLAO</td>\n",
              "      <td>BELLAVISTA</td>\n",
              "      <td>PCR</td>\n",
              "      <td>47.0</td>\n",
              "      <td>MASCULINO</td>\n",
              "      <td>20200415.0</td>\n",
              "    </tr>\n",
              "    <tr>\n",
              "      <th>...</th>\n",
              "      <td>...</td>\n",
              "      <td>...</td>\n",
              "      <td>...</td>\n",
              "      <td>...</td>\n",
              "      <td>...</td>\n",
              "      <td>...</td>\n",
              "      <td>...</td>\n",
              "      <td>...</td>\n",
              "      <td>...</td>\n",
              "    </tr>\n",
              "    <tr>\n",
              "      <th>979106</th>\n",
              "      <td>20201209</td>\n",
              "      <td>83e463e6ba1475b3adf47a14aec4c1a9</td>\n",
              "      <td>CALLAO</td>\n",
              "      <td>CALLAO</td>\n",
              "      <td>CALLAO</td>\n",
              "      <td>PR</td>\n",
              "      <td>44.0</td>\n",
              "      <td>MASCULINO</td>\n",
              "      <td>20201120.0</td>\n",
              "    </tr>\n",
              "    <tr>\n",
              "      <th>979107</th>\n",
              "      <td>20201209</td>\n",
              "      <td>24b1a51a3f56a21a612fa046018f4081</td>\n",
              "      <td>CUSCO</td>\n",
              "      <td>URUBAMBA</td>\n",
              "      <td>MACHUPICCHU</td>\n",
              "      <td>PR</td>\n",
              "      <td>20.0</td>\n",
              "      <td>FEMENINO</td>\n",
              "      <td>20201127.0</td>\n",
              "    </tr>\n",
              "    <tr>\n",
              "      <th>979108</th>\n",
              "      <td>20201209</td>\n",
              "      <td>ab441734c7186c686d3960876cd955c8</td>\n",
              "      <td>JUNIN</td>\n",
              "      <td>HUANCAYO</td>\n",
              "      <td>CHILCA</td>\n",
              "      <td>PR</td>\n",
              "      <td>44.0</td>\n",
              "      <td>MASCULINO</td>\n",
              "      <td>20201129.0</td>\n",
              "    </tr>\n",
              "    <tr>\n",
              "      <th>979109</th>\n",
              "      <td>20201209</td>\n",
              "      <td>7c2b520da2366ba0de03d6d63dc4b823</td>\n",
              "      <td>LIMA REGION</td>\n",
              "      <td>BARRANCA</td>\n",
              "      <td>BARRANCA</td>\n",
              "      <td>PR</td>\n",
              "      <td>27.0</td>\n",
              "      <td>MASCULINO</td>\n",
              "      <td>20201129.0</td>\n",
              "    </tr>\n",
              "    <tr>\n",
              "      <th>979110</th>\n",
              "      <td>20201209</td>\n",
              "      <td>5f083ae950570d0bd36b6bdd1ea0e7c2</td>\n",
              "      <td>LIMA</td>\n",
              "      <td>LIMA</td>\n",
              "      <td>SANTIAGO DE SURCO</td>\n",
              "      <td>PR</td>\n",
              "      <td>3.0</td>\n",
              "      <td>FEMENINO</td>\n",
              "      <td>20201128.0</td>\n",
              "    </tr>\n",
              "  </tbody>\n",
              "</table>\n",
              "<p>979111 rows × 9 columns</p>\n",
              "</div>"
            ],
            "text/plain": [
              "        ï»¿FECHA_CORTE  ... FECHA_RESULTADO\n",
              "0             20201209  ...      20200527.0\n",
              "1             20201209  ...      20200511.0\n",
              "2             20201209  ...      20200411.0\n",
              "3             20201209  ...      20200411.0\n",
              "4             20201209  ...      20200415.0\n",
              "...                ...  ...             ...\n",
              "979106        20201209  ...      20201120.0\n",
              "979107        20201209  ...      20201127.0\n",
              "979108        20201209  ...      20201129.0\n",
              "979109        20201209  ...      20201129.0\n",
              "979110        20201209  ...      20201128.0\n",
              "\n",
              "[979111 rows x 9 columns]"
            ]
          },
          "metadata": {
            "tags": []
          },
          "execution_count": 9
        }
      ]
    },
    {
      "cell_type": "code",
      "metadata": {
        "colab": {
          "base_uri": "https://localhost:8080/",
          "height": 407
        },
        "id": "AX8IRpF3gVxf",
        "outputId": "f4fcd839-e82d-4cdf-9fc4-8cf865aa5ce5"
      },
      "source": [
        "data_fa"
      ],
      "execution_count": 10,
      "outputs": [
        {
          "output_type": "execute_result",
          "data": {
            "text/html": [
              "<div>\n",
              "<style scoped>\n",
              "    .dataframe tbody tr th:only-of-type {\n",
              "        vertical-align: middle;\n",
              "    }\n",
              "\n",
              "    .dataframe tbody tr th {\n",
              "        vertical-align: top;\n",
              "    }\n",
              "\n",
              "    .dataframe thead th {\n",
              "        text-align: right;\n",
              "    }\n",
              "</style>\n",
              "<table border=\"1\" class=\"dataframe\">\n",
              "  <thead>\n",
              "    <tr style=\"text-align: right;\">\n",
              "      <th></th>\n",
              "      <th>FECHA_CORTE</th>\n",
              "      <th>UUID</th>\n",
              "      <th>FECHA_FALLECIMIENTO</th>\n",
              "      <th>EDAD_DECLARADA</th>\n",
              "      <th>SEXO</th>\n",
              "      <th>FECHA_NAC</th>\n",
              "      <th>DEPARTAMENTO</th>\n",
              "      <th>PROVINCIA</th>\n",
              "      <th>DISTRITO</th>\n",
              "    </tr>\n",
              "  </thead>\n",
              "  <tbody>\n",
              "    <tr>\n",
              "      <th>0</th>\n",
              "      <td>20201209</td>\n",
              "      <td>7320cabdc1aaca6c59014cae76a134e6</td>\n",
              "      <td>20200519</td>\n",
              "      <td>32</td>\n",
              "      <td>MASCULINO</td>\n",
              "      <td>19880208.0</td>\n",
              "      <td>LIMA</td>\n",
              "      <td>LIMA</td>\n",
              "      <td>VILLA EL SALVADOR</td>\n",
              "    </tr>\n",
              "    <tr>\n",
              "      <th>1</th>\n",
              "      <td>20201209</td>\n",
              "      <td>e81602051997ace8340bb8c18fe24c65</td>\n",
              "      <td>20200522</td>\n",
              "      <td>54</td>\n",
              "      <td>MASCULINO</td>\n",
              "      <td>19650905.0</td>\n",
              "      <td>LIMA</td>\n",
              "      <td>LIMA</td>\n",
              "      <td>SAN JUAN DE LURIGANCHO</td>\n",
              "    </tr>\n",
              "    <tr>\n",
              "      <th>2</th>\n",
              "      <td>20201209</td>\n",
              "      <td>cecdbf10074dbc011ae05b3cbd320a6f</td>\n",
              "      <td>20200522</td>\n",
              "      <td>60</td>\n",
              "      <td>MASCULINO</td>\n",
              "      <td>19590928.0</td>\n",
              "      <td>LIMA</td>\n",
              "      <td>LIMA</td>\n",
              "      <td>PUENTE PIEDRA</td>\n",
              "    </tr>\n",
              "    <tr>\n",
              "      <th>3</th>\n",
              "      <td>20201209</td>\n",
              "      <td>71ecb6bccb248b0bb2ac72ed51b5e979</td>\n",
              "      <td>20200518</td>\n",
              "      <td>79</td>\n",
              "      <td>MASCULINO</td>\n",
              "      <td>19400714.0</td>\n",
              "      <td>LIMA</td>\n",
              "      <td>LIMA</td>\n",
              "      <td>SANTIAGO DE SURCO</td>\n",
              "    </tr>\n",
              "    <tr>\n",
              "      <th>4</th>\n",
              "      <td>20201209</td>\n",
              "      <td>566af4276cbe9359abe93f9aa86396c3</td>\n",
              "      <td>20200524</td>\n",
              "      <td>33</td>\n",
              "      <td>MASCULINO</td>\n",
              "      <td>19870103.0</td>\n",
              "      <td>LIMA</td>\n",
              "      <td>CAÑETE</td>\n",
              "      <td>CHILCA</td>\n",
              "    </tr>\n",
              "    <tr>\n",
              "      <th>...</th>\n",
              "      <td>...</td>\n",
              "      <td>...</td>\n",
              "      <td>...</td>\n",
              "      <td>...</td>\n",
              "      <td>...</td>\n",
              "      <td>...</td>\n",
              "      <td>...</td>\n",
              "      <td>...</td>\n",
              "      <td>...</td>\n",
              "    </tr>\n",
              "    <tr>\n",
              "      <th>36494</th>\n",
              "      <td>20201209</td>\n",
              "      <td>50f915075b5831c7d443da90ee1c039f</td>\n",
              "      <td>20200425</td>\n",
              "      <td>58</td>\n",
              "      <td>FEMENINO</td>\n",
              "      <td>19610429.0</td>\n",
              "      <td>CALLAO</td>\n",
              "      <td>CALLAO</td>\n",
              "      <td>CALLAO</td>\n",
              "    </tr>\n",
              "    <tr>\n",
              "      <th>36495</th>\n",
              "      <td>20201209</td>\n",
              "      <td>ef5aa1a6940df3487ecc187c8463535c</td>\n",
              "      <td>20200425</td>\n",
              "      <td>63</td>\n",
              "      <td>FEMENINO</td>\n",
              "      <td>19570129.0</td>\n",
              "      <td>CALLAO</td>\n",
              "      <td>CALLAO</td>\n",
              "      <td>CALLAO</td>\n",
              "    </tr>\n",
              "    <tr>\n",
              "      <th>36496</th>\n",
              "      <td>20201209</td>\n",
              "      <td>c2389c2ca14fe77875b0bfe83fbc1f80</td>\n",
              "      <td>20200423</td>\n",
              "      <td>93</td>\n",
              "      <td>MASCULINO</td>\n",
              "      <td>19260521.0</td>\n",
              "      <td>CALLAO</td>\n",
              "      <td>CALLAO</td>\n",
              "      <td>CALLAO</td>\n",
              "    </tr>\n",
              "    <tr>\n",
              "      <th>36497</th>\n",
              "      <td>20201209</td>\n",
              "      <td>b511bd9232ba28f72e0785a61c70db4d</td>\n",
              "      <td>20200424</td>\n",
              "      <td>81</td>\n",
              "      <td>FEMENINO</td>\n",
              "      <td>19380611.0</td>\n",
              "      <td>CALLAO</td>\n",
              "      <td>CALLAO</td>\n",
              "      <td>CALLAO</td>\n",
              "    </tr>\n",
              "    <tr>\n",
              "      <th>36498</th>\n",
              "      <td>20201209</td>\n",
              "      <td>083ea01e84987c86ff1080a6b078a097</td>\n",
              "      <td>20200413</td>\n",
              "      <td>65</td>\n",
              "      <td>MASCULINO</td>\n",
              "      <td>19550310.0</td>\n",
              "      <td>LIMA</td>\n",
              "      <td>LIMA</td>\n",
              "      <td>JESUS MARIA</td>\n",
              "    </tr>\n",
              "  </tbody>\n",
              "</table>\n",
              "<p>36499 rows × 9 columns</p>\n",
              "</div>"
            ],
            "text/plain": [
              "       FECHA_CORTE  ...                DISTRITO\n",
              "0         20201209  ...       VILLA EL SALVADOR\n",
              "1         20201209  ...  SAN JUAN DE LURIGANCHO\n",
              "2         20201209  ...           PUENTE PIEDRA\n",
              "3         20201209  ...       SANTIAGO DE SURCO\n",
              "4         20201209  ...                  CHILCA\n",
              "...            ...  ...                     ...\n",
              "36494     20201209  ...                  CALLAO\n",
              "36495     20201209  ...                  CALLAO\n",
              "36496     20201209  ...                  CALLAO\n",
              "36497     20201209  ...                  CALLAO\n",
              "36498     20201209  ...             JESUS MARIA\n",
              "\n",
              "[36499 rows x 9 columns]"
            ]
          },
          "metadata": {
            "tags": []
          },
          "execution_count": 10
        }
      ]
    },
    {
      "cell_type": "code",
      "metadata": {
        "id": "GLhwoM9aex9_"
      },
      "source": [
        "#Preparacion data Peru desde MINSA\n",
        "def PreparacionData(data, col =\"\"):\n",
        "    if col == 'FECHA_RESULTADO':\n",
        "        newlabel = 'CasosConfirmados'\n",
        "    elif col == 'FECHA_FALLECIMIENTO':\n",
        "        newlabel = 'Fallecidos'\n",
        "    data.sort_values(by = col)\n",
        "    data_drop = data.dropna(subset=[col])\n",
        "    #data_drop[col] = pd.to_datetime(data_drop[col], format = \"%d/%m/%Y\")\n",
        "    data_drop[col] = pd.to_datetime(data_drop[col], format = \"%Y%m%d\")\n",
        "    peru = data_drop.groupby([col]).count().reset_index()\n",
        "    peru = peru.sort_values(by=[col])\n",
        "    peru = peru[[col,'UUID']]\n",
        "    peru.columns = ['Fecha',newlabel]\n",
        "    peru.index = peru['Fecha']\n",
        "    peru = peru[[newlabel]]\n",
        "    return peru"
      ],
      "execution_count": 11,
      "outputs": []
    },
    {
      "cell_type": "code",
      "metadata": {
        "id": "j44lDa1fex-A",
        "colab": {
          "base_uri": "https://localhost:8080/"
        },
        "outputId": "1664c5d5-d20c-4119-8389-88bc09ec7ca3"
      },
      "source": [
        "peru_pos = PreparacionData(data_pos, 'FECHA_RESULTADO')\n",
        "peru_fal = PreparacionData(data_fa,  'FECHA_FALLECIMIENTO')"
      ],
      "execution_count": 12,
      "outputs": [
        {
          "output_type": "stream",
          "text": [
            "/usr/local/lib/python3.6/dist-packages/ipykernel_launcher.py:10: SettingWithCopyWarning: \n",
            "A value is trying to be set on a copy of a slice from a DataFrame.\n",
            "Try using .loc[row_indexer,col_indexer] = value instead\n",
            "\n",
            "See the caveats in the documentation: https://pandas.pydata.org/pandas-docs/stable/user_guide/indexing.html#returning-a-view-versus-a-copy\n",
            "  # Remove the CWD from sys.path while we load stuff.\n"
          ],
          "name": "stderr"
        }
      ]
    },
    {
      "cell_type": "code",
      "metadata": {
        "colab": {
          "base_uri": "https://localhost:8080/",
          "height": 437
        },
        "id": "0x3WPzjXlfLn",
        "outputId": "74ee2a04-9531-4d98-81a3-36f9f93e236a"
      },
      "source": [
        "peru_pos"
      ],
      "execution_count": 13,
      "outputs": [
        {
          "output_type": "execute_result",
          "data": {
            "text/html": [
              "<div>\n",
              "<style scoped>\n",
              "    .dataframe tbody tr th:only-of-type {\n",
              "        vertical-align: middle;\n",
              "    }\n",
              "\n",
              "    .dataframe tbody tr th {\n",
              "        vertical-align: top;\n",
              "    }\n",
              "\n",
              "    .dataframe thead th {\n",
              "        text-align: right;\n",
              "    }\n",
              "</style>\n",
              "<table border=\"1\" class=\"dataframe\">\n",
              "  <thead>\n",
              "    <tr style=\"text-align: right;\">\n",
              "      <th></th>\n",
              "      <th>CasosConfirmados</th>\n",
              "    </tr>\n",
              "    <tr>\n",
              "      <th>Fecha</th>\n",
              "      <th></th>\n",
              "    </tr>\n",
              "  </thead>\n",
              "  <tbody>\n",
              "    <tr>\n",
              "      <th>2020-03-06</th>\n",
              "      <td>1</td>\n",
              "    </tr>\n",
              "    <tr>\n",
              "      <th>2020-03-07</th>\n",
              "      <td>5</td>\n",
              "    </tr>\n",
              "    <tr>\n",
              "      <th>2020-03-08</th>\n",
              "      <td>2</td>\n",
              "    </tr>\n",
              "    <tr>\n",
              "      <th>2020-03-09</th>\n",
              "      <td>3</td>\n",
              "    </tr>\n",
              "    <tr>\n",
              "      <th>2020-03-10</th>\n",
              "      <td>1</td>\n",
              "    </tr>\n",
              "    <tr>\n",
              "      <th>...</th>\n",
              "      <td>...</td>\n",
              "    </tr>\n",
              "    <tr>\n",
              "      <th>2020-12-04</th>\n",
              "      <td>1339</td>\n",
              "    </tr>\n",
              "    <tr>\n",
              "      <th>2020-12-05</th>\n",
              "      <td>1085</td>\n",
              "    </tr>\n",
              "    <tr>\n",
              "      <th>2020-12-07</th>\n",
              "      <td>1153</td>\n",
              "    </tr>\n",
              "    <tr>\n",
              "      <th>2020-12-08</th>\n",
              "      <td>544</td>\n",
              "    </tr>\n",
              "    <tr>\n",
              "      <th>2020-12-09</th>\n",
              "      <td>796</td>\n",
              "    </tr>\n",
              "  </tbody>\n",
              "</table>\n",
              "<p>277 rows × 1 columns</p>\n",
              "</div>"
            ],
            "text/plain": [
              "            CasosConfirmados\n",
              "Fecha                       \n",
              "2020-03-06                 1\n",
              "2020-03-07                 5\n",
              "2020-03-08                 2\n",
              "2020-03-09                 3\n",
              "2020-03-10                 1\n",
              "...                      ...\n",
              "2020-12-04              1339\n",
              "2020-12-05              1085\n",
              "2020-12-07              1153\n",
              "2020-12-08               544\n",
              "2020-12-09               796\n",
              "\n",
              "[277 rows x 1 columns]"
            ]
          },
          "metadata": {
            "tags": []
          },
          "execution_count": 13
        }
      ]
    },
    {
      "cell_type": "code",
      "metadata": {
        "colab": {
          "base_uri": "https://localhost:8080/",
          "height": 437
        },
        "id": "IoYga79vlg2m",
        "outputId": "ce16860c-87e6-4f6e-e4f8-c22d7ffc23a8"
      },
      "source": [
        "peru_fal"
      ],
      "execution_count": 14,
      "outputs": [
        {
          "output_type": "execute_result",
          "data": {
            "text/html": [
              "<div>\n",
              "<style scoped>\n",
              "    .dataframe tbody tr th:only-of-type {\n",
              "        vertical-align: middle;\n",
              "    }\n",
              "\n",
              "    .dataframe tbody tr th {\n",
              "        vertical-align: top;\n",
              "    }\n",
              "\n",
              "    .dataframe thead th {\n",
              "        text-align: right;\n",
              "    }\n",
              "</style>\n",
              "<table border=\"1\" class=\"dataframe\">\n",
              "  <thead>\n",
              "    <tr style=\"text-align: right;\">\n",
              "      <th></th>\n",
              "      <th>Fallecidos</th>\n",
              "    </tr>\n",
              "    <tr>\n",
              "      <th>Fecha</th>\n",
              "      <th></th>\n",
              "    </tr>\n",
              "  </thead>\n",
              "  <tbody>\n",
              "    <tr>\n",
              "      <th>2020-03-18</th>\n",
              "      <td>1</td>\n",
              "    </tr>\n",
              "    <tr>\n",
              "      <th>2020-03-19</th>\n",
              "      <td>3</td>\n",
              "    </tr>\n",
              "    <tr>\n",
              "      <th>2020-03-20</th>\n",
              "      <td>2</td>\n",
              "    </tr>\n",
              "    <tr>\n",
              "      <th>2020-03-21</th>\n",
              "      <td>1</td>\n",
              "    </tr>\n",
              "    <tr>\n",
              "      <th>2020-03-22</th>\n",
              "      <td>2</td>\n",
              "    </tr>\n",
              "    <tr>\n",
              "      <th>...</th>\n",
              "      <td>...</td>\n",
              "    </tr>\n",
              "    <tr>\n",
              "      <th>2020-12-05</th>\n",
              "      <td>43</td>\n",
              "    </tr>\n",
              "    <tr>\n",
              "      <th>2020-12-06</th>\n",
              "      <td>50</td>\n",
              "    </tr>\n",
              "    <tr>\n",
              "      <th>2020-12-07</th>\n",
              "      <td>77</td>\n",
              "    </tr>\n",
              "    <tr>\n",
              "      <th>2020-12-08</th>\n",
              "      <td>54</td>\n",
              "    </tr>\n",
              "    <tr>\n",
              "      <th>2020-12-09</th>\n",
              "      <td>44</td>\n",
              "    </tr>\n",
              "  </tbody>\n",
              "</table>\n",
              "<p>266 rows × 1 columns</p>\n",
              "</div>"
            ],
            "text/plain": [
              "            Fallecidos\n",
              "Fecha                 \n",
              "2020-03-18           1\n",
              "2020-03-19           3\n",
              "2020-03-20           2\n",
              "2020-03-21           1\n",
              "2020-03-22           2\n",
              "...                ...\n",
              "2020-12-05          43\n",
              "2020-12-06          50\n",
              "2020-12-07          77\n",
              "2020-12-08          54\n",
              "2020-12-09          44\n",
              "\n",
              "[266 rows x 1 columns]"
            ]
          },
          "metadata": {
            "tags": []
          },
          "execution_count": 14
        }
      ]
    },
    {
      "cell_type": "code",
      "metadata": {
        "id": "pP0IlQDdex-A"
      },
      "source": [
        "def DataRegion(region : \"\", tipo : \"\"):\n",
        "    if (tipo == 'positivo'):\n",
        "        columna = 'FECHA_RESULTADO'\n",
        "        data = data_pos\n",
        "        cols = ['Fecha','CasosConfirmados']\n",
        "    elif (tipo == 'fallecido'):\n",
        "        columna = 'FECHA_FALLECIMIENTO'\n",
        "        data = data_fa\n",
        "        cols = ['Fecha','Fallecidos']\n",
        "        \n",
        "    data_region = data.loc[data['DEPARTAMENTO'] == region]\n",
        "    data_region.sort_values(by = columna)\n",
        "    data_region = data_region.dropna(subset=[columna])\n",
        "    #data_region[columna] = pd.to_datetime(data_region[columna], format = \"%d/%m/%Y\")\n",
        "    data_region[columna] = pd.to_datetime(data_region[columna], format = \"%Y%m%d\")\n",
        "    data_region = data_region.groupby([columna]).count().reset_index()\n",
        "    data_region = data_region.sort_values(by=[columna])\n",
        "    data_region = data_region[[columna,'UUID']]\n",
        "    data_region.columns = cols\n",
        "    data_region.index = data_region['Fecha']\n",
        "    data_region = data_region[[cols[1]]]\n",
        "    return data_region\n"
      ],
      "execution_count": 15,
      "outputs": []
    },
    {
      "cell_type": "code",
      "metadata": {
        "id": "9IrQBACUex-A",
        "colab": {
          "base_uri": "https://localhost:8080/",
          "height": 437
        },
        "outputId": "7b65169c-8c68-402c-899c-dddcb19cf777"
      },
      "source": [
        "aqp_pos = DataRegion(\"AREQUIPA\",'positivo')\n",
        "aqp = DataRegion(\"AREQUIPA\", 'fallecido')\n",
        "aqp_pos"
      ],
      "execution_count": 16,
      "outputs": [
        {
          "output_type": "execute_result",
          "data": {
            "text/html": [
              "<div>\n",
              "<style scoped>\n",
              "    .dataframe tbody tr th:only-of-type {\n",
              "        vertical-align: middle;\n",
              "    }\n",
              "\n",
              "    .dataframe tbody tr th {\n",
              "        vertical-align: top;\n",
              "    }\n",
              "\n",
              "    .dataframe thead th {\n",
              "        text-align: right;\n",
              "    }\n",
              "</style>\n",
              "<table border=\"1\" class=\"dataframe\">\n",
              "  <thead>\n",
              "    <tr style=\"text-align: right;\">\n",
              "      <th></th>\n",
              "      <th>CasosConfirmados</th>\n",
              "    </tr>\n",
              "    <tr>\n",
              "      <th>Fecha</th>\n",
              "      <th></th>\n",
              "    </tr>\n",
              "  </thead>\n",
              "  <tbody>\n",
              "    <tr>\n",
              "      <th>2020-03-07</th>\n",
              "      <td>1</td>\n",
              "    </tr>\n",
              "    <tr>\n",
              "      <th>2020-03-11</th>\n",
              "      <td>1</td>\n",
              "    </tr>\n",
              "    <tr>\n",
              "      <th>2020-03-19</th>\n",
              "      <td>1</td>\n",
              "    </tr>\n",
              "    <tr>\n",
              "      <th>2020-03-20</th>\n",
              "      <td>1</td>\n",
              "    </tr>\n",
              "    <tr>\n",
              "      <th>2020-03-22</th>\n",
              "      <td>3</td>\n",
              "    </tr>\n",
              "    <tr>\n",
              "      <th>...</th>\n",
              "      <td>...</td>\n",
              "    </tr>\n",
              "    <tr>\n",
              "      <th>2020-12-04</th>\n",
              "      <td>54</td>\n",
              "    </tr>\n",
              "    <tr>\n",
              "      <th>2020-12-05</th>\n",
              "      <td>32</td>\n",
              "    </tr>\n",
              "    <tr>\n",
              "      <th>2020-12-07</th>\n",
              "      <td>35</td>\n",
              "    </tr>\n",
              "    <tr>\n",
              "      <th>2020-12-08</th>\n",
              "      <td>5</td>\n",
              "    </tr>\n",
              "    <tr>\n",
              "      <th>2020-12-09</th>\n",
              "      <td>64</td>\n",
              "    </tr>\n",
              "  </tbody>\n",
              "</table>\n",
              "<p>260 rows × 1 columns</p>\n",
              "</div>"
            ],
            "text/plain": [
              "            CasosConfirmados\n",
              "Fecha                       \n",
              "2020-03-07                 1\n",
              "2020-03-11                 1\n",
              "2020-03-19                 1\n",
              "2020-03-20                 1\n",
              "2020-03-22                 3\n",
              "...                      ...\n",
              "2020-12-04                54\n",
              "2020-12-05                32\n",
              "2020-12-07                35\n",
              "2020-12-08                 5\n",
              "2020-12-09                64\n",
              "\n",
              "[260 rows x 1 columns]"
            ]
          },
          "metadata": {
            "tags": []
          },
          "execution_count": 16
        }
      ]
    },
    {
      "cell_type": "code",
      "metadata": {
        "colab": {
          "base_uri": "https://localhost:8080/",
          "height": 437
        },
        "id": "TEwjPKGncAvA",
        "outputId": "5025b305-c2f2-4605-94de-4f1084c72208"
      },
      "source": [
        "aqp"
      ],
      "execution_count": 17,
      "outputs": [
        {
          "output_type": "execute_result",
          "data": {
            "text/html": [
              "<div>\n",
              "<style scoped>\n",
              "    .dataframe tbody tr th:only-of-type {\n",
              "        vertical-align: middle;\n",
              "    }\n",
              "\n",
              "    .dataframe tbody tr th {\n",
              "        vertical-align: top;\n",
              "    }\n",
              "\n",
              "    .dataframe thead th {\n",
              "        text-align: right;\n",
              "    }\n",
              "</style>\n",
              "<table border=\"1\" class=\"dataframe\">\n",
              "  <thead>\n",
              "    <tr style=\"text-align: right;\">\n",
              "      <th></th>\n",
              "      <th>Fallecidos</th>\n",
              "    </tr>\n",
              "    <tr>\n",
              "      <th>Fecha</th>\n",
              "      <th></th>\n",
              "    </tr>\n",
              "  </thead>\n",
              "  <tbody>\n",
              "    <tr>\n",
              "      <th>2020-03-29</th>\n",
              "      <td>1</td>\n",
              "    </tr>\n",
              "    <tr>\n",
              "      <th>2020-03-31</th>\n",
              "      <td>1</td>\n",
              "    </tr>\n",
              "    <tr>\n",
              "      <th>2020-04-04</th>\n",
              "      <td>4</td>\n",
              "    </tr>\n",
              "    <tr>\n",
              "      <th>2020-04-12</th>\n",
              "      <td>1</td>\n",
              "    </tr>\n",
              "    <tr>\n",
              "      <th>2020-04-13</th>\n",
              "      <td>2</td>\n",
              "    </tr>\n",
              "    <tr>\n",
              "      <th>...</th>\n",
              "      <td>...</td>\n",
              "    </tr>\n",
              "    <tr>\n",
              "      <th>2020-12-04</th>\n",
              "      <td>1</td>\n",
              "    </tr>\n",
              "    <tr>\n",
              "      <th>2020-12-05</th>\n",
              "      <td>2</td>\n",
              "    </tr>\n",
              "    <tr>\n",
              "      <th>2020-12-06</th>\n",
              "      <td>1</td>\n",
              "    </tr>\n",
              "    <tr>\n",
              "      <th>2020-12-08</th>\n",
              "      <td>1</td>\n",
              "    </tr>\n",
              "    <tr>\n",
              "      <th>2020-12-09</th>\n",
              "      <td>2</td>\n",
              "    </tr>\n",
              "  </tbody>\n",
              "</table>\n",
              "<p>215 rows × 1 columns</p>\n",
              "</div>"
            ],
            "text/plain": [
              "            Fallecidos\n",
              "Fecha                 \n",
              "2020-03-29           1\n",
              "2020-03-31           1\n",
              "2020-04-04           4\n",
              "2020-04-12           1\n",
              "2020-04-13           2\n",
              "...                ...\n",
              "2020-12-04           1\n",
              "2020-12-05           2\n",
              "2020-12-06           1\n",
              "2020-12-08           1\n",
              "2020-12-09           2\n",
              "\n",
              "[215 rows x 1 columns]"
            ]
          },
          "metadata": {
            "tags": []
          },
          "execution_count": 17
        }
      ]
    },
    {
      "cell_type": "markdown",
      "metadata": {
        "id": "a6XbbDtjC2Or"
      },
      "source": [
        "# **Preprocesamiento de Datos**"
      ]
    },
    {
      "cell_type": "code",
      "metadata": {
        "id": "4eXrjz8Cex-A"
      },
      "source": [
        "def Normalizar(data, col):\n",
        "    scaler    = StandardScaler()\n",
        "    dataScale = data[col].values\n",
        "    dataScale = dataScale.reshape(-1, 1)\n",
        "    scaler.fit(dataScale)\n",
        "\n",
        "    return scaler"
      ],
      "execution_count": 18,
      "outputs": []
    },
    {
      "cell_type": "code",
      "metadata": {
        "id": "QuKm3-SAex-B"
      },
      "source": [
        "def DesNormalizar(data, scaler):\n",
        "    return scaler.inverse_transform(np.expand_dims(data, axis=0)).flatten()"
      ],
      "execution_count": 19,
      "outputs": []
    },
    {
      "cell_type": "code",
      "metadata": {
        "id": "UsG00xMjex-B",
        "colab": {
          "base_uri": "https://localhost:8080/"
        },
        "outputId": "7b434b03-329b-4fcf-c18f-df27e4689e23"
      },
      "source": [
        "#Creando variables para Modelo\n",
        "confData = peru_pos\n",
        "deadData = peru_fal\n",
        "confScaler = Normalizar(confData, 'CasosConfirmados')\n",
        "deadScaler = Normalizar(deadData, 'Fallecidos')\n",
        "confNormalizado = confScaler.transform(confData)\n",
        "deadNormalizado = deadScaler.transform(deadData)\n",
        "confNormalizado.shape"
      ],
      "execution_count": 20,
      "outputs": [
        {
          "output_type": "execute_result",
          "data": {
            "text/plain": [
              "(277, 1)"
            ]
          },
          "metadata": {
            "tags": []
          },
          "execution_count": 20
        }
      ]
    },
    {
      "cell_type": "code",
      "metadata": {
        "colab": {
          "base_uri": "https://localhost:8080/"
        },
        "id": "zsczeDU1cfeQ",
        "outputId": "371c6ef6-e819-4d26-acc0-7f4fbfba6eef"
      },
      "source": [
        "deadNormalizado.shape"
      ],
      "execution_count": 21,
      "outputs": [
        {
          "output_type": "execute_result",
          "data": {
            "text/plain": [
              "(266, 1)"
            ]
          },
          "metadata": {
            "tags": []
          },
          "execution_count": 21
        }
      ]
    },
    {
      "cell_type": "code",
      "metadata": {
        "id": "z92QRCjcex-B",
        "colab": {
          "base_uri": "https://localhost:8080/",
          "height": 437
        },
        "outputId": "ebdb7fdd-82de-4240-84e7-41cf60972cb5"
      },
      "source": [
        "deadData"
      ],
      "execution_count": 22,
      "outputs": [
        {
          "output_type": "execute_result",
          "data": {
            "text/html": [
              "<div>\n",
              "<style scoped>\n",
              "    .dataframe tbody tr th:only-of-type {\n",
              "        vertical-align: middle;\n",
              "    }\n",
              "\n",
              "    .dataframe tbody tr th {\n",
              "        vertical-align: top;\n",
              "    }\n",
              "\n",
              "    .dataframe thead th {\n",
              "        text-align: right;\n",
              "    }\n",
              "</style>\n",
              "<table border=\"1\" class=\"dataframe\">\n",
              "  <thead>\n",
              "    <tr style=\"text-align: right;\">\n",
              "      <th></th>\n",
              "      <th>Fallecidos</th>\n",
              "    </tr>\n",
              "    <tr>\n",
              "      <th>Fecha</th>\n",
              "      <th></th>\n",
              "    </tr>\n",
              "  </thead>\n",
              "  <tbody>\n",
              "    <tr>\n",
              "      <th>2020-03-18</th>\n",
              "      <td>1</td>\n",
              "    </tr>\n",
              "    <tr>\n",
              "      <th>2020-03-19</th>\n",
              "      <td>3</td>\n",
              "    </tr>\n",
              "    <tr>\n",
              "      <th>2020-03-20</th>\n",
              "      <td>2</td>\n",
              "    </tr>\n",
              "    <tr>\n",
              "      <th>2020-03-21</th>\n",
              "      <td>1</td>\n",
              "    </tr>\n",
              "    <tr>\n",
              "      <th>2020-03-22</th>\n",
              "      <td>2</td>\n",
              "    </tr>\n",
              "    <tr>\n",
              "      <th>...</th>\n",
              "      <td>...</td>\n",
              "    </tr>\n",
              "    <tr>\n",
              "      <th>2020-12-05</th>\n",
              "      <td>43</td>\n",
              "    </tr>\n",
              "    <tr>\n",
              "      <th>2020-12-06</th>\n",
              "      <td>50</td>\n",
              "    </tr>\n",
              "    <tr>\n",
              "      <th>2020-12-07</th>\n",
              "      <td>77</td>\n",
              "    </tr>\n",
              "    <tr>\n",
              "      <th>2020-12-08</th>\n",
              "      <td>54</td>\n",
              "    </tr>\n",
              "    <tr>\n",
              "      <th>2020-12-09</th>\n",
              "      <td>44</td>\n",
              "    </tr>\n",
              "  </tbody>\n",
              "</table>\n",
              "<p>266 rows × 1 columns</p>\n",
              "</div>"
            ],
            "text/plain": [
              "            Fallecidos\n",
              "Fecha                 \n",
              "2020-03-18           1\n",
              "2020-03-19           3\n",
              "2020-03-20           2\n",
              "2020-03-21           1\n",
              "2020-03-22           2\n",
              "...                ...\n",
              "2020-12-05          43\n",
              "2020-12-06          50\n",
              "2020-12-07          77\n",
              "2020-12-08          54\n",
              "2020-12-09          44\n",
              "\n",
              "[266 rows x 1 columns]"
            ]
          },
          "metadata": {
            "tags": []
          },
          "execution_count": 22
        }
      ]
    },
    {
      "cell_type": "code",
      "metadata": {
        "id": "drhET0JXex-B"
      },
      "source": [
        "#Crear subconjuntos train y test\n",
        "train_conf, test_conf = train_test_split(confNormalizado, test_size=.25, shuffle=False)\n",
        "train_dead, test_dead = train_test_split(deadNormalizado, test_size=.20, shuffle=False)"
      ],
      "execution_count": 23,
      "outputs": []
    },
    {
      "cell_type": "code",
      "metadata": {
        "id": "JfsQWJ1Gex-C",
        "colab": {
          "base_uri": "https://localhost:8080/"
        },
        "outputId": "f2b0899c-bc10-4099-8732-f84ce3b097c0"
      },
      "source": [
        "train_conf.shape"
      ],
      "execution_count": 24,
      "outputs": [
        {
          "output_type": "execute_result",
          "data": {
            "text/plain": [
              "(207, 1)"
            ]
          },
          "metadata": {
            "tags": []
          },
          "execution_count": 24
        }
      ]
    },
    {
      "cell_type": "code",
      "metadata": {
        "id": "12ur1tyqdkTw",
        "colab": {
          "base_uri": "https://localhost:8080/"
        },
        "outputId": "87bc1481-96e1-4fcb-aa3d-22de036e7882"
      },
      "source": [
        "test_conf.shape"
      ],
      "execution_count": 25,
      "outputs": [
        {
          "output_type": "execute_result",
          "data": {
            "text/plain": [
              "(70, 1)"
            ]
          },
          "metadata": {
            "tags": []
          },
          "execution_count": 25
        }
      ]
    },
    {
      "cell_type": "code",
      "metadata": {
        "id": "NLncEqsAex-C"
      },
      "source": [
        "def CrearSecuencias(data, seq_lenght):\n",
        "    xs = []\n",
        "    ys = []\n",
        "    for i in range(len(data)-seq_lenght-1):\n",
        "        x = data[i:(i+seq_lenght)]\n",
        "        y = data[i+seq_lenght]\n",
        "        xs.append(x)\n",
        "        ys.append(y)\n",
        "    return torch.from_numpy(np.array(xs)).float(), torch.from_numpy(np.array(ys)).float()"
      ],
      "execution_count": 26,
      "outputs": []
    },
    {
      "cell_type": "code",
      "metadata": {
        "id": "r7r-DgEgex-C"
      },
      "source": [
        "seq_length = 10\n",
        "#Secuencias para los casos confirmados\n",
        "X_train_conf, y_train_conf = CrearSecuencias(train_conf, seq_length)\n",
        "X_test_conf, y_test_conf = CrearSecuencias(test_conf, seq_length)\n",
        "#Secuencias para los fallecidos\n",
        "X_train_dead, y_train_dead = CrearSecuencias(train_dead, seq_length)\n",
        "X_test_dead, y_test_dead = CrearSecuencias(test_dead, seq_length)"
      ],
      "execution_count": 27,
      "outputs": []
    },
    {
      "cell_type": "code",
      "metadata": {
        "id": "t2X35Qo8exoA",
        "colab": {
          "base_uri": "https://localhost:8080/"
        },
        "outputId": "5b2882bd-014b-40ac-a1d6-78fa41013da6"
      },
      "source": [
        "X_train_conf.shape"
      ],
      "execution_count": 28,
      "outputs": [
        {
          "output_type": "execute_result",
          "data": {
            "text/plain": [
              "torch.Size([196, 10, 1])"
            ]
          },
          "metadata": {
            "tags": []
          },
          "execution_count": 28
        }
      ]
    },
    {
      "cell_type": "code",
      "metadata": {
        "id": "ECh2NdsUfOyS",
        "colab": {
          "base_uri": "https://localhost:8080/"
        },
        "outputId": "4b40a3ae-44a7-4215-cd75-f108c68ad0e1"
      },
      "source": [
        "X_test_conf.shape"
      ],
      "execution_count": 29,
      "outputs": [
        {
          "output_type": "execute_result",
          "data": {
            "text/plain": [
              "torch.Size([59, 10, 1])"
            ]
          },
          "metadata": {
            "tags": []
          },
          "execution_count": 29
        }
      ]
    },
    {
      "cell_type": "code",
      "metadata": {
        "id": "G8gj4RDOe8u3",
        "colab": {
          "base_uri": "https://localhost:8080/"
        },
        "outputId": "c63e209f-e2e7-4dab-83f5-390c06f044b2"
      },
      "source": [
        "X_train_dead.shape"
      ],
      "execution_count": 30,
      "outputs": [
        {
          "output_type": "execute_result",
          "data": {
            "text/plain": [
              "torch.Size([201, 10, 1])"
            ]
          },
          "metadata": {
            "tags": []
          },
          "execution_count": 30
        }
      ]
    },
    {
      "cell_type": "code",
      "metadata": {
        "id": "k21uS5avfPhI",
        "colab": {
          "base_uri": "https://localhost:8080/"
        },
        "outputId": "8522194e-8a6f-438a-cee3-5c9fa635f812"
      },
      "source": [
        "X_test_dead.shape"
      ],
      "execution_count": 31,
      "outputs": [
        {
          "output_type": "execute_result",
          "data": {
            "text/plain": [
              "torch.Size([43, 10, 1])"
            ]
          },
          "metadata": {
            "tags": []
          },
          "execution_count": 31
        }
      ]
    },
    {
      "cell_type": "markdown",
      "metadata": {
        "id": "qdztXOvzDBsy"
      },
      "source": [
        "# **Construcción del modelo**"
      ]
    },
    {
      "cell_type": "code",
      "metadata": {
        "id": "nIPJfRsTex-C"
      },
      "source": [
        "class PredictorLSTM(nn.Module):\n",
        "\n",
        "  def __init__(self, n_features, n_hidden, seq_len, n_layers=2):\n",
        "    super(PredictorLSTM, self).__init__()\n",
        "\n",
        "    self.n_hidden = n_hidden\n",
        "    self.seq_len = seq_len\n",
        "    self.n_layers = n_layers\n",
        "    #Modelo Long-Short Term Memory network\n",
        "    self.lstm = nn.LSTM(\n",
        "      input_size=n_features,\n",
        "      hidden_size=n_hidden,\n",
        "      num_layers=n_layers,\n",
        "      dropout=0.5\n",
        "    )\n",
        "\n",
        "    self.linear = nn.Linear(in_features=n_hidden, out_features=1)\n",
        "\n",
        "  def reset_hidden_state(self):\n",
        "    self.hidden = (\n",
        "        torch.zeros(self.n_layers, self.seq_len, self.n_hidden),\n",
        "        torch.zeros(self.n_layers, self.seq_len, self.n_hidden)\n",
        "    )\n",
        "\n",
        "  def forward(self, sequences):\n",
        "    lstm_out, self.hidden = self.lstm(sequences.view(len(sequences), self.seq_len, -1), self.hidden)\n",
        "    last_time_step = lstm_out.view(self.seq_len, len(sequences), self.n_hidden)[-1]\n",
        "    y_pred = self.linear(last_time_step)\n",
        "    return y_pred"
      ],
      "execution_count": 32,
      "outputs": []
    },
    {
      "cell_type": "code",
      "metadata": {
        "id": "kD7kPQraex-C"
      },
      "source": [
        "def Train_model(model, X_train, y_train, X_test=None, y_test=None,  num_epochs = 120,tasa=1e-3):\n",
        "    #MSE\n",
        "  loss_fn = torch.nn.MSELoss(reduction='sum')\n",
        "    #Optimizador\n",
        "  optimiser = torch.optim.Adam(model.parameters(), lr=tasa)\n",
        "\n",
        "  train_hist = np.zeros(num_epochs)\n",
        "  test_hist = np.zeros(num_epochs)\n",
        "\n",
        "  for t in range(num_epochs):\n",
        "      \n",
        "    model.reset_hidden_state()\n",
        "    #prediccion\n",
        "    y_pred = model(X_train)\n",
        "    #Error de la prediccion\n",
        "    loss = loss_fn(y_pred.float(), y_train)\n",
        "    \n",
        "    \n",
        "    if X_test is not None:\n",
        "      with torch.no_grad():\n",
        "        y_test_pred = model(X_test)\n",
        "        test_loss = loss_fn(y_test_pred.float(), y_test)\n",
        "      test_hist[t] = test_loss.item()\n",
        "\n",
        "    \n",
        "    if t % 10 == 0:  \n",
        "        print(f'Epoch {t} train loss: {loss.item()} test loss: {test_loss.item()}')\n",
        "\n",
        "    train_hist[t] = loss.item()\n",
        "    optimiser.zero_grad()\n",
        "    loss.backward()\n",
        "    optimiser.step()\n",
        "  \n",
        "  return model.eval(), train_hist, test_hist"
      ],
      "execution_count": 33,
      "outputs": []
    },
    {
      "cell_type": "markdown",
      "metadata": {
        "id": "beJiYn3VDNHi"
      },
      "source": [
        "# **Entrenamiento**"
      ]
    },
    {
      "cell_type": "code",
      "metadata": {
        "tags": [],
        "id": "cIkQBQalex-D",
        "colab": {
          "base_uri": "https://localhost:8080/"
        },
        "outputId": "57d82207-7dc5-430a-d508-8d93038a9f74"
      },
      "source": [
        "model_conf = PredictorLSTM(n_features=1, n_hidden=512, seq_len=seq_length, n_layers=2)\n",
        "model_conf, train_hist_conf, test_hist_conf = Train_model(model_conf, X_train_conf, y_train_conf, X_test_conf, y_test_conf, num_epochs= 120, tasa=0.01)"
      ],
      "execution_count": 34,
      "outputs": [
        {
          "output_type": "stream",
          "text": [
            "Epoch 0 train loss: 232.95335388183594 test loss: 24.79903793334961\n",
            "Epoch 10 train loss: 231.5350341796875 test loss: 64.12615203857422\n",
            "Epoch 20 train loss: 214.71485900878906 test loss: 61.769309997558594\n",
            "Epoch 30 train loss: 214.3463592529297 test loss: 54.69681930541992\n",
            "Epoch 40 train loss: 213.34576416015625 test loss: 53.84052658081055\n",
            "Epoch 50 train loss: 214.31153869628906 test loss: 52.465538024902344\n",
            "Epoch 60 train loss: 213.15240478515625 test loss: 53.18142318725586\n",
            "Epoch 70 train loss: 214.28094482421875 test loss: 48.52434158325195\n",
            "Epoch 80 train loss: 213.92613220214844 test loss: 48.951255798339844\n",
            "Epoch 90 train loss: 214.60623168945312 test loss: 52.45643997192383\n",
            "Epoch 100 train loss: 214.17832946777344 test loss: 46.582462310791016\n",
            "Epoch 110 train loss: 212.9163818359375 test loss: 55.42436981201172\n"
          ],
          "name": "stdout"
        }
      ]
    },
    {
      "cell_type": "code",
      "metadata": {
        "tags": [],
        "id": "bhwS6cVQex-D",
        "colab": {
          "base_uri": "https://localhost:8080/"
        },
        "outputId": "2dd1f74d-a64c-4695-cbb2-a44024f72011"
      },
      "source": [
        "model_dead = PredictorLSTM(n_features=1, n_hidden=512, seq_len=seq_length, n_layers=2)\n",
        "model_dead, train_hist_dead, test_hist_dead = Train_model(model_dead, X_train_dead, y_train_dead, X_test_dead, y_test_dead, num_epochs= 120,tasa=0.01)"
      ],
      "execution_count": 35,
      "outputs": [
        {
          "output_type": "stream",
          "text": [
            "Epoch 0 train loss: 181.47860717773438 test loss: 46.777587890625\n",
            "Epoch 10 train loss: 159.65110778808594 test loss: 81.70673370361328\n",
            "Epoch 20 train loss: 159.59396362304688 test loss: 82.83987426757812\n",
            "Epoch 30 train loss: 156.6558837890625 test loss: 83.75916290283203\n",
            "Epoch 40 train loss: 156.34738159179688 test loss: 84.32777404785156\n",
            "Epoch 50 train loss: 157.8529815673828 test loss: 84.62966918945312\n",
            "Epoch 60 train loss: 157.63999938964844 test loss: 84.25010681152344\n",
            "Epoch 70 train loss: 157.4683380126953 test loss: 78.60777282714844\n",
            "Epoch 80 train loss: 157.87472534179688 test loss: 82.15373229980469\n",
            "Epoch 90 train loss: 157.97564697265625 test loss: 83.51840209960938\n",
            "Epoch 100 train loss: 157.2858428955078 test loss: 82.33590698242188\n",
            "Epoch 110 train loss: 158.8214111328125 test loss: 87.4752197265625\n"
          ],
          "name": "stdout"
        }
      ]
    },
    {
      "cell_type": "code",
      "metadata": {
        "id": "J8IdTEXEex-D"
      },
      "source": [
        "def PlotMSE(train_hist, test_hist):\n",
        "    plt.plot(train_hist, label=\"Error MSE Train\")\n",
        "    plt.plot(test_hist, label=\"Error MSE Test\")\n",
        "    plt.ylim((0, 500))\n",
        "    plt.legend()"
      ],
      "execution_count": 36,
      "outputs": []
    },
    {
      "cell_type": "code",
      "metadata": {
        "id": "fmJkNYAXex-D",
        "colab": {
          "base_uri": "https://localhost:8080/",
          "height": 266
        },
        "outputId": "6c496492-9e42-4a05-ef9c-9100dbbd57aa"
      },
      "source": [
        "PlotMSE(train_hist_conf, test_hist_conf)"
      ],
      "execution_count": 37,
      "outputs": [
        {
          "output_type": "display_data",
          "data": {
            "image/png": "[encoded data removed]",
            "text/plain": [
              "<Figure size 432x288 with 1 Axes>"
            ]
          },
          "metadata": {
            "tags": [],
            "needs_background": "light"
          }
        }
      ]
    },
    {
      "cell_type": "code",
      "metadata": {
        "id": "JDfH51lJex-E",
        "colab": {
          "base_uri": "https://localhost:8080/",
          "height": 266
        },
        "outputId": "e1471887-252c-41f2-8c6d-0eec9ccc87c7"
      },
      "source": [
        "PlotMSE(train_hist_dead, test_hist_dead)"
      ],
      "execution_count": 38,
      "outputs": [
        {
          "output_type": "display_data",
          "data": {
            "image/png": "[encoded data removed]",
            "text/plain": [
              "<Figure size 432x288 with 1 Axes>"
            ]
          },
          "metadata": {
            "tags": [],
            "needs_background": "light"
          }
        }
      ]
    },
    {
      "cell_type": "markdown",
      "metadata": {
        "id": "EYG52uHWDTpJ"
      },
      "source": [
        "# **Predicción de Casos confirmados y fallecidos**"
      ]
    },
    {
      "cell_type": "code",
      "metadata": {
        "id": "bUswSbRmex-E"
      },
      "source": [
        "def Predecir(modelo, Xtest, dias_futuros = 15):\n",
        "    with torch.no_grad():\n",
        "        test_seq = Xtest[:1]\n",
        "        preds = []\n",
        "        for _ in range(dias_futuros):\n",
        "            y_test_pred = modelo(test_seq)\n",
        "            pred = torch.flatten(y_test_pred).item()\n",
        "            preds.append(pred)\n",
        "            new_seq = test_seq.numpy().flatten()\n",
        "            new_seq = np.append(new_seq, [pred])\n",
        "            new_seq = new_seq[1:]\n",
        "            test_seq = torch.as_tensor(new_seq).view(1, seq_length, 1).float()\n",
        "    return preds"
      ],
      "execution_count": 39,
      "outputs": []
    },
    {
      "cell_type": "code",
      "metadata": {
        "id": "qfnXjdhlex-E"
      },
      "source": [
        "def PreparacionDatosGrafica(preds, test, Data, scaler, futuro = 15):\n",
        "    true_cases = DesNormalizar(test.flatten().numpy(), scaler)\n",
        "    predicted_cases = DesNormalizar(preds, scaler)\n",
        "    future_index = pd.date_range(start=Data.index[-7], periods= futuro+1, closed='left')\n",
        "    future_cases = pd.Series(data=predicted_cases[-(futuro+1):], index=future_index)\n",
        "    return true_cases, predicted_cases, future_cases"
      ],
      "execution_count": 40,
      "outputs": []
    },
    {
      "cell_type": "code",
      "metadata": {
        "id": "g19kN2yKex-F"
      },
      "source": [
        "futuro = 15\n",
        "preds_conf = Predecir(model_conf, X_test_conf, dias_futuros= len(X_test_conf) + futuro)\n",
        "preds_dead = Predecir(model_dead, X_test_dead, dias_futuros= len(X_test_dead) + futuro)"
      ],
      "execution_count": 41,
      "outputs": []
    },
    {
      "cell_type": "code",
      "metadata": {
        "id": "1phAmf5Dex-F"
      },
      "source": [
        "true_cases_conf, predicted_cases_conf, future_cases_conf = PreparacionDatosGrafica(preds_conf, y_test_conf, confData, confScaler)\n",
        "true_cases_dead, predicted_cases_dead, future_cases_dead = PreparacionDatosGrafica(preds_dead, y_test_dead, deadData, deadScaler)"
      ],
      "execution_count": 42,
      "outputs": []
    },
    {
      "cell_type": "code",
      "metadata": {
        "id": "ePH3bz0Aex-F"
      },
      "source": [
        "def PloteoPrediccion(data, train, predicted, true, scaler, future_cases):\n",
        "  diarios = pd.Series(data = scaler.inverse_transform(train).flatten(), index = data.index[:len(train)])\n",
        "  reales = pd.Series(data = true, index = data.index[len(train):len(train) + len(true)] )\n",
        "  predecidos = pd.Series(data = predicted[:-(futuro)], index = data.index[len(train):len(train) + len(true)] )\n",
        "  #plt.plot(data.index[:len(train)], scaler.inverse_transform(train).flatten(), label='Historico de Casos diarios' )\n",
        "  plt.plot(diarios, label='Historico de Casos diarios' )\n",
        "  #plt.plot(data.index[len(train):len(train) + len(true)], true, label='Casos diarios reales')\n",
        "  plt.plot(reales, label='Casos diarios reales')\n",
        "  #plt.plot(data.index[len(train):len(train) + len(true)], predicted[:-futuro], label='Casos diarios predecidos' )\n",
        "  plt.plot(predecidos, label='Casos diarios predecidos')\n",
        "  plt.plot(future_cases, label='Casos diarios predecidos futuros' )\n",
        "\n",
        "  plt.xticks(fontsize = 10, rotation=90)\n",
        "  plt.tight_layout()\n",
        "  plt.legend()"
      ],
      "execution_count": 43,
      "outputs": []
    },
    {
      "cell_type": "code",
      "metadata": {
        "id": "8T7aUyTyex-F"
      },
      "source": [
        "#PloteoPrediccion(deadregion, train_dead, predicted_cases_dead, true_cases_dead, future_cases_dead)"
      ],
      "execution_count": 44,
      "outputs": []
    },
    {
      "cell_type": "code",
      "metadata": {
        "id": "S9LHHCvzex-G",
        "colab": {
          "base_uri": "https://localhost:8080/",
          "height": 297
        },
        "outputId": "61d90a17-db02-4e23-f562-ed0dd42f6da4"
      },
      "source": [
        "PloteoPrediccion(confData, train_conf, predicted_cases_conf, true_cases_conf, confScaler, future_cases_conf)"
      ],
      "execution_count": 45,
      "outputs": [
        {
          "output_type": "display_data",
          "data": {
            "image/png": "[encoded data removed]",
            "text/plain": [
              "<Figure size 432x288 with 1 Axes>"
            ]
          },
          "metadata": {
            "tags": [],
            "needs_background": "light"
          }
        }
      ]
    },
    {
      "cell_type": "code",
      "metadata": {
        "tags": [],
        "id": "1R01aE6Qex-G",
        "colab": {
          "base_uri": "https://localhost:8080/",
          "height": 297
        },
        "outputId": "5373bb3e-8172-460e-efe5-0e2a52cbb5eb"
      },
      "source": [
        "PloteoPrediccion(deadData, train_dead, predicted_cases_dead, true_cases_dead, deadScaler, future_cases_dead)"
      ],
      "execution_count": 46,
      "outputs": [
        {
          "output_type": "display_data",
          "data": {
            "image/png": "[encoded data removed]",
            "text/plain": [
              "<Figure size 432x288 with 1 Axes>"
            ]
          },
          "metadata": {
            "tags": [],
            "needs_background": "light"
          }
        }
      ]
    },
    {
      "cell_type": "code",
      "metadata": {
        "id": "LOSmkY3Gex-G",
        "colab": {
          "base_uri": "https://localhost:8080/"
        },
        "outputId": "b711facd-7589-420f-8089-c55bded4d779"
      },
      "source": [
        "future_cases_dead"
      ],
      "execution_count": 47,
      "outputs": [
        {
          "output_type": "execute_result",
          "data": {
            "text/plain": [
              "2020-12-03    163.866824\n",
              "2020-12-04    163.865736\n",
              "2020-12-05    163.864658\n",
              "2020-12-06    163.863600\n",
              "2020-12-07    163.862534\n",
              "2020-12-08    163.861483\n",
              "2020-12-09    163.860435\n",
              "2020-12-10    163.859399\n",
              "2020-12-11    163.858374\n",
              "2020-12-12    163.857348\n",
              "2020-12-13    163.856335\n",
              "2020-12-14    163.855327\n",
              "2020-12-15    163.854326\n",
              "2020-12-16    163.853331\n",
              "2020-12-17    163.852345\n",
              "2020-12-18    163.851362\n",
              "Freq: D, dtype: float64"
            ]
          },
          "metadata": {
            "tags": []
          },
          "execution_count": 47
        }
      ]
    },
    {
      "cell_type": "code",
      "metadata": {
        "id": "umZDNDSFex-H"
      },
      "source": [
        "def PrediccionRegiones(region: \"\", futuro = 15):\n",
        "    confregion = DataRegion(region, 'positivo')\n",
        "    deadregion = DataRegion(region, 'fallecido')\n",
        "    #Creando variables para Modelo\n",
        "    confScaler_region = Normalizar(confregion, 'CasosConfirmados')\n",
        "    deadScaler_region = Normalizar(deadregion, 'Fallecidos')\n",
        "\n",
        "    confNormal_region = confScaler_region.transform(confregion)\n",
        "    deadNormal_region = deadScaler_region.transform(deadregion)\n",
        "    #Crear subconjuntos train y test\n",
        "    train_conf, test_conf = train_test_split(confNormal_region, test_size=.25, shuffle=False)\n",
        "    train_dead, test_dead = train_test_split(deadNormal_region, test_size=.25, shuffle=False)\n",
        "    \n",
        "    X_train_conf, y_train_conf = CrearSecuencias(train_conf, seq_length)\n",
        "    X_test_conf, y_test_conf = CrearSecuencias(test_conf, seq_length)\n",
        "    #Secuencias para Fallecidos\n",
        "    X_train_dead, y_train_dead = CrearSecuencias(train_dead, seq_length)\n",
        "    X_test_dead, y_test_dead = CrearSecuencias(test_dead, seq_length)\n",
        "    preds_conf = Predecir(model_conf, X_test_conf, dias_futuros= len(X_test_conf) + futuro)\n",
        "    preds_dead = Predecir(model_dead, X_test_dead, dias_futuros= len(X_test_dead) + futuro)\n",
        "    #print(preds_conf)\n",
        "\n",
        "    true_cases_conf, predicted_cases_conf, future_cases_conf = PreparacionDatosGrafica(preds_conf, y_test_conf, confregion, confScaler_region, futuro)\n",
        "    true_cases_dead, predicted_cases_dead, future_cases_dead = PreparacionDatosGrafica(preds_dead, y_test_dead, deadregion, deadScaler_region, futuro)\n",
        "    PloteoPrediccion(confregion, train_conf, predicted_cases_conf, true_cases_conf, confScaler_region, future_cases_conf)\n",
        "    plt.figure()\n",
        "    PloteoPrediccion(deadregion, train_dead, predicted_cases_dead, true_cases_dead, deadScaler_region, future_cases_dead)\n",
        "    #print(deadregion)\n",
        "    return future_cases_conf, future_cases_dead"
      ],
      "execution_count": 48,
      "outputs": []
    },
    {
      "cell_type": "code",
      "metadata": {
        "tags": [],
        "id": "5-AuzVl-ex-H",
        "colab": {
          "base_uri": "https://localhost:8080/",
          "height": 577
        },
        "outputId": "f7a5ad32-ccc4-4ba0-93d3-e591925ef2a4"
      },
      "source": [
        "casos_aqp, dead_aqp = PrediccionRegiones(\"AREQUIPA\")"
      ],
      "execution_count": 49,
      "outputs": [
        {
          "output_type": "display_data",
          "data": {
            "image/png": "[encoded data removed]",
            "text/plain": [
              "<Figure size 432x288 with 1 Axes>"
            ]
          },
          "metadata": {
            "tags": [],
            "needs_background": "light"
          }
        },
        {
          "output_type": "display_data",
          "data": {
            "image/png": "[encoded data removed]",
            "text/plain": [
              "<Figure size 432x288 with 1 Axes>"
            ]
          },
          "metadata": {
            "tags": [],
            "needs_background": "light"
          }
        }
      ]
    },
    {
      "cell_type": "code",
      "metadata": {
        "id": "QQ7pzCkfex-H",
        "colab": {
          "base_uri": "https://localhost:8080/"
        },
        "outputId": "fd56c361-29b5-4d4c-d83d-5a917a1039d8"
      },
      "source": [
        "casos_aqp"
      ],
      "execution_count": 50,
      "outputs": [
        {
          "output_type": "execute_result",
          "data": {
            "text/plain": [
              "2020-12-02    226.830521\n",
              "2020-12-03    256.427594\n",
              "2020-12-04    261.182541\n",
              "2020-12-05    226.848515\n",
              "2020-12-06    256.445387\n",
              "2020-12-07    261.200621\n",
              "2020-12-08    226.866355\n",
              "2020-12-09    256.463060\n",
              "2020-12-10    261.218635\n",
              "2020-12-11    226.884108\n",
              "2020-12-12    256.480639\n",
              "2020-12-13    261.236495\n",
              "2020-12-14    226.901727\n",
              "2020-12-15    256.498057\n",
              "2020-12-16    261.254222\n",
              "2020-12-17    226.919259\n",
              "Freq: D, dtype: float64"
            ]
          },
          "metadata": {
            "tags": []
          },
          "execution_count": 50
        }
      ]
    },
    {
      "cell_type": "code",
      "metadata": {
        "id": "BCMjkRvaex-H",
        "colab": {
          "base_uri": "https://localhost:8080/"
        },
        "outputId": "293233f6-a253-48e3-8679-172a2a0654e8"
      },
      "source": [
        "dead_aqp"
      ],
      "execution_count": 51,
      "outputs": [
        {
          "output_type": "execute_result",
          "data": {
            "text/plain": [
              "2020-12-02    9.137962\n",
              "2020-12-03    9.137910\n",
              "2020-12-04    9.137858\n",
              "2020-12-05    9.137807\n",
              "2020-12-06    9.137756\n",
              "2020-12-07    9.137706\n",
              "2020-12-08    9.137655\n",
              "2020-12-09    9.137606\n",
              "2020-12-10    9.137556\n",
              "2020-12-11    9.137507\n",
              "2020-12-12    9.137459\n",
              "2020-12-13    9.137410\n",
              "2020-12-14    9.137362\n",
              "2020-12-15    9.137314\n",
              "2020-12-16    9.137267\n",
              "2020-12-17    9.137219\n",
              "Freq: D, dtype: float64"
            ]
          },
          "metadata": {
            "tags": []
          },
          "execution_count": 51
        }
      ]
    },
    {
      "cell_type": "code",
      "metadata": {
        "id": "haEsENlmex-E"
      },
      "source": [
        "def BusquedaParametros():\n",
        "    num_layers = range(1,4)\n",
        "    #num_features = range(500, 1001,500)\n",
        "    sequence_size = range(5,16,5)\n",
        "    test_size = np.arange(0.5,1.0,0.1)\n",
        "    arr_mse = np.empty( (len(sequence_size), len(num_layers)))\n",
        "    for test in test_size:\n",
        "      #Creando test train data\n",
        "      print (\"##############\")\n",
        "      print (\"Test size: \", test)\n",
        "      print (\"##############\")\n",
        "      train_conf, test_conf = train_test_split(confNormalizado, test_size=test,shuffle=False)\n",
        "      for sequence in range(0, len(sequence_size)):\n",
        "        #Creando Secuencias\n",
        "        X_train, y_train = CrearSecuencias(train_conf, sequence)\n",
        "        X_test, y_test = CrearSecuencias(test_conf, sequence)\n",
        "        for layers in range(0, len(num_layers)):\n",
        "          model = CoronaVirusPredictor(n_features=1, n_hidden=512, seq_len=sequence_size[sequence], n_layers=num_layers[layers])\n",
        "          model, train_hist, test_hist = Train_model(model, X_train, y_train, X_test, y_test, num_epochs= 120, tasa=0.01)\n",
        "\n",
        "          arr_mse[sequence,layers] = test_hist[-1]\n",
        "    print(pd.DataFrame(arr_mse, index = sequence_size, columns = num_layers))\n",
        "\n",
        "\n"
      ],
      "execution_count": 52,
      "outputs": []
    },
    {
      "cell_type": "code",
      "metadata": {
        "tags": [],
        "id": "4txqdkpzex-H",
        "colab": {
          "base_uri": "https://localhost:8080/",
          "height": 577
        },
        "outputId": "e64d6df8-e146-49e5-f9d4-eed6b6867745"
      },
      "source": [
        "casos_lima, dead_lima = PrediccionRegiones(\"LIMA\")"
      ],
      "execution_count": 53,
      "outputs": [
        {
          "output_type": "display_data",
          "data": {
            "image/png": "[encoded data removed]",
            "text/plain": [
              "<Figure size 432x288 with 1 Axes>"
            ]
          },
          "metadata": {
            "tags": [],
            "needs_background": "light"
          }
        },
        {
          "output_type": "display_data",
          "data": {
            "image/png": "[encoded data removed]",
            "text/plain": [
              "<Figure size 432x288 with 1 Axes>"
            ]
          },
          "metadata": {
            "tags": [],
            "needs_background": "light"
          }
        }
      ]
    },
    {
      "cell_type": "code",
      "metadata": {
        "id": "0RTWomclex-H",
        "colab": {
          "base_uri": "https://localhost:8080/"
        },
        "outputId": "96a41916-1100-49a2-aaa8-2e7dfb32dbd0"
      },
      "source": [
        "casos_lima"
      ],
      "execution_count": 54,
      "outputs": [
        {
          "output_type": "execute_result",
          "data": {
            "text/plain": [
              "2020-12-02    1807.426580\n",
              "2020-12-03    1658.872260\n",
              "2020-12-04    1786.890976\n",
              "2020-12-05    1807.493774\n",
              "2020-12-06    1658.938760\n",
              "2020-12-07    1786.956579\n",
              "2020-12-08    1807.560795\n",
              "2020-12-09    1659.004913\n",
              "2020-12-10    1787.021922\n",
              "2020-12-11    1807.627295\n",
              "2020-12-12    1659.070776\n",
              "2020-12-13    1787.086859\n",
              "2020-12-14    1807.693246\n",
              "2020-12-15    1659.136235\n",
              "2020-12-16    1787.151392\n",
              "2020-12-17    1807.759051\n",
              "Freq: D, dtype: float64"
            ]
          },
          "metadata": {
            "tags": []
          },
          "execution_count": 54
        }
      ]
    },
    {
      "cell_type": "code",
      "metadata": {
        "id": "K_nZrnbJex-I",
        "colab": {
          "base_uri": "https://localhost:8080/"
        },
        "outputId": "4878b47e-afe5-483b-de6c-2f8d8598dbde"
      },
      "source": [
        "dead_lima"
      ],
      "execution_count": 55,
      "outputs": [
        {
          "output_type": "execute_result",
          "data": {
            "text/plain": [
              "2020-12-03    73.525311\n",
              "2020-12-04    73.525120\n",
              "2020-12-05    73.524934\n",
              "2020-12-06    73.524744\n",
              "2020-12-07    73.524558\n",
              "2020-12-08    73.524373\n",
              "2020-12-09    73.524188\n",
              "2020-12-10    73.524007\n",
              "2020-12-11    73.523824\n",
              "2020-12-12    73.523643\n",
              "2020-12-13    73.523464\n",
              "2020-12-14    73.523286\n",
              "2020-12-15    73.523109\n",
              "2020-12-16    73.522931\n",
              "2020-12-17    73.522759\n",
              "2020-12-18    73.522586\n",
              "Freq: D, dtype: float64"
            ]
          },
          "metadata": {
            "tags": []
          },
          "execution_count": 55
        }
      ]
    }
  ]
}