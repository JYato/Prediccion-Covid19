{
  "nbformat": 4,
  "nbformat_minor": 0,
  "metadata": {
    "colab": {
      "name": "RegresionCovid_muertes.ipynb",
      "provenance": [],
      "collapsed_sections": []
    },
    "kernelspec": {
      "name": "python3",
      "display_name": "Python 3"
    }
  },
  "cells": [
    {
      "cell_type": "markdown",
      "metadata": {
        "id": "qAhmonZJUfo6"
      },
      "source": [
        "# **LIBRERIAS**"
      ]
    },
    {
      "cell_type": "code",
      "metadata": {
        "id": "d-AOi01VUS3W"
      },
      "source": [
        "# Common imports\n",
        "import pandas as pd\n",
        "import numpy as np\n",
        "import matplotlib.pyplot as plt\n",
        "from numpy.linalg import inv\n",
        "import os\n",
        "# To plot pretty figures\n",
        "%matplotlib inline\n",
        "import matplotlib\n",
        "from pylab import *"
      ],
      "execution_count": 584,
      "outputs": []
    },
    {
      "cell_type": "markdown",
      "metadata": {
        "id": "au3yqMuCVNtR"
      },
      "source": [
        "# **Obtencion de Datos**\n",
        "Los datos utilizados para este proyecto fueron extraidos desde el github  \"https://github.com/jmcastagnetto/covid-19-peru-data/blob/main/datos/covid-19-peru-data.csv\" \n",
        "\n",
        "Esta base de datos está actualizada hasta el día 18 de octubre del 2020"
      ]
    },
    {
      "cell_type": "code",
      "metadata": {
        "id": "I9kFq3UVVO45",
        "outputId": "edd36054-7ab5-4481-ded7-86636cc07301",
        "colab": {
          "base_uri": "https://localhost:8080/",
          "height": 305
        }
      },
      "source": [
        "#url = 'https://github.com/jmcastagnetto/covid-19-peru-data/blob/main/datos/covid-19-peru-data.csv'\n",
        "covid_cases = pd.read_csv('covid-19-peru-data.csv', sep=',' ,header=0)\n",
        "covid_cases.head()\n",
        "covid_cases.tail()"
      ],
      "execution_count": 585,
      "outputs": [
        {
          "output_type": "execute_result",
          "data": {
            "text/html": [
              "<div>\n",
              "<style scoped>\n",
              "    .dataframe tbody tr th:only-of-type {\n",
              "        vertical-align: middle;\n",
              "    }\n",
              "\n",
              "    .dataframe tbody tr th {\n",
              "        vertical-align: top;\n",
              "    }\n",
              "\n",
              "    .dataframe thead th {\n",
              "        text-align: right;\n",
              "    }\n",
              "</style>\n",
              "<table border=\"1\" class=\"dataframe\">\n",
              "  <thead>\n",
              "    <tr style=\"text-align: right;\">\n",
              "      <th></th>\n",
              "      <th>country</th>\n",
              "      <th>iso3c</th>\n",
              "      <th>region</th>\n",
              "      <th>date</th>\n",
              "      <th>confirmed</th>\n",
              "      <th>deaths</th>\n",
              "      <th>recovered</th>\n",
              "      <th>total_tests</th>\n",
              "      <th>negative_tests</th>\n",
              "      <th>pcr_test_positive</th>\n",
              "      <th>serological_test_positive</th>\n",
              "      <th>pcr_serological_test_positive</th>\n",
              "    </tr>\n",
              "  </thead>\n",
              "  <tbody>\n",
              "    <tr>\n",
              "      <th>5580</th>\n",
              "      <td>Peru</td>\n",
              "      <td>PER</td>\n",
              "      <td>San Martín</td>\n",
              "      <td>2020-10-18</td>\n",
              "      <td>19855.0</td>\n",
              "      <td>720.0</td>\n",
              "      <td>NaN</td>\n",
              "      <td>80091.0</td>\n",
              "      <td>60236.0</td>\n",
              "      <td>2741.0</td>\n",
              "      <td>17114.0</td>\n",
              "      <td>NaN</td>\n",
              "    </tr>\n",
              "    <tr>\n",
              "      <th>5581</th>\n",
              "      <td>Peru</td>\n",
              "      <td>PER</td>\n",
              "      <td>Tacna</td>\n",
              "      <td>2020-10-18</td>\n",
              "      <td>12728.0</td>\n",
              "      <td>224.0</td>\n",
              "      <td>NaN</td>\n",
              "      <td>67933.0</td>\n",
              "      <td>55205.0</td>\n",
              "      <td>1604.0</td>\n",
              "      <td>11124.0</td>\n",
              "      <td>NaN</td>\n",
              "    </tr>\n",
              "    <tr>\n",
              "      <th>5582</th>\n",
              "      <td>Peru</td>\n",
              "      <td>PER</td>\n",
              "      <td>Tumbes</td>\n",
              "      <td>2020-10-18</td>\n",
              "      <td>7914.0</td>\n",
              "      <td>312.0</td>\n",
              "      <td>NaN</td>\n",
              "      <td>33561.0</td>\n",
              "      <td>25647.0</td>\n",
              "      <td>697.0</td>\n",
              "      <td>7217.0</td>\n",
              "      <td>NaN</td>\n",
              "    </tr>\n",
              "    <tr>\n",
              "      <th>5583</th>\n",
              "      <td>Peru</td>\n",
              "      <td>PER</td>\n",
              "      <td>Ucayali</td>\n",
              "      <td>2020-10-18</td>\n",
              "      <td>17203.0</td>\n",
              "      <td>335.0</td>\n",
              "      <td>NaN</td>\n",
              "      <td>55602.0</td>\n",
              "      <td>38399.0</td>\n",
              "      <td>1036.0</td>\n",
              "      <td>16167.0</td>\n",
              "      <td>NaN</td>\n",
              "    </tr>\n",
              "    <tr>\n",
              "      <th>5584</th>\n",
              "      <td>Peru</td>\n",
              "      <td>PER</td>\n",
              "      <td>NaN</td>\n",
              "      <td>2020-10-18</td>\n",
              "      <td>868675.0</td>\n",
              "      <td>33759.0</td>\n",
              "      <td>779779.0</td>\n",
              "      <td>4230353.0</td>\n",
              "      <td>3361678.0</td>\n",
              "      <td>196268.0</td>\n",
              "      <td>672407.0</td>\n",
              "      <td>NaN</td>\n",
              "    </tr>\n",
              "  </tbody>\n",
              "</table>\n",
              "</div>"
            ],
            "text/plain": [
              "     country iso3c  ... serological_test_positive pcr_serological_test_positive\n",
              "5580    Peru   PER  ...                   17114.0                           NaN\n",
              "5581    Peru   PER  ...                   11124.0                           NaN\n",
              "5582    Peru   PER  ...                    7217.0                           NaN\n",
              "5583    Peru   PER  ...                   16167.0                           NaN\n",
              "5584    Peru   PER  ...                  672407.0                           NaN\n",
              "\n",
              "[5 rows x 12 columns]"
            ]
          },
          "metadata": {
            "tags": []
          },
          "execution_count": 585
        }
      ]
    },
    {
      "cell_type": "markdown",
      "metadata": {
        "id": "BzFqkVnJcGYk"
      },
      "source": [
        "# **Revisión de los datos**"
      ]
    },
    {
      "cell_type": "code",
      "metadata": {
        "id": "PQpbCo0TcMxU",
        "outputId": "5b620821-939b-449c-fa7f-da95291b98b8",
        "colab": {
          "base_uri": "https://localhost:8080/",
          "height": 363
        }
      },
      "source": [
        "covid_cases.info()"
      ],
      "execution_count": 586,
      "outputs": [
        {
          "output_type": "stream",
          "text": [
            "<class 'pandas.core.frame.DataFrame'>\n",
            "RangeIndex: 5585 entries, 0 to 5584\n",
            "Data columns (total 12 columns):\n",
            " #   Column                         Non-Null Count  Dtype  \n",
            "---  ------                         --------------  -----  \n",
            " 0   country                        5585 non-null   object \n",
            " 1   iso3c                          5585 non-null   object \n",
            " 2   region                         5359 non-null   object \n",
            " 3   date                           5585 non-null   object \n",
            " 4   confirmed                      5429 non-null   float64\n",
            " 5   deaths                         4831 non-null   float64\n",
            " 6   recovered                      244 non-null    float64\n",
            " 7   total_tests                    4294 non-null   float64\n",
            " 8   negative_tests                 4326 non-null   float64\n",
            " 9   pcr_test_positive              4938 non-null   float64\n",
            " 10  serological_test_positive      4874 non-null   float64\n",
            " 11  pcr_serological_test_positive  24 non-null     float64\n",
            "dtypes: float64(8), object(4)\n",
            "memory usage: 523.7+ KB\n"
          ],
          "name": "stdout"
        }
      ]
    },
    {
      "cell_type": "code",
      "metadata": {
        "id": "wEnWFIkccQr_",
        "outputId": "45ddc75e-b8ea-4f51-8c40-e4d5a5338bae",
        "colab": {
          "base_uri": "https://localhost:8080/",
          "height": 288
        }
      },
      "source": [
        "covid_cases.describe()"
      ],
      "execution_count": 587,
      "outputs": [
        {
          "output_type": "execute_result",
          "data": {
            "text/html": [
              "<div>\n",
              "<style scoped>\n",
              "    .dataframe tbody tr th:only-of-type {\n",
              "        vertical-align: middle;\n",
              "    }\n",
              "\n",
              "    .dataframe tbody tr th {\n",
              "        vertical-align: top;\n",
              "    }\n",
              "\n",
              "    .dataframe thead th {\n",
              "        text-align: right;\n",
              "    }\n",
              "</style>\n",
              "<table border=\"1\" class=\"dataframe\">\n",
              "  <thead>\n",
              "    <tr style=\"text-align: right;\">\n",
              "      <th></th>\n",
              "      <th>confirmed</th>\n",
              "      <th>deaths</th>\n",
              "      <th>recovered</th>\n",
              "      <th>total_tests</th>\n",
              "      <th>negative_tests</th>\n",
              "      <th>pcr_test_positive</th>\n",
              "      <th>serological_test_positive</th>\n",
              "      <th>pcr_serological_test_positive</th>\n",
              "    </tr>\n",
              "  </thead>\n",
              "  <tbody>\n",
              "    <tr>\n",
              "      <th>count</th>\n",
              "      <td>5429.000000</td>\n",
              "      <td>4831.000000</td>\n",
              "      <td>244.000000</td>\n",
              "      <td>4.294000e+03</td>\n",
              "      <td>4.326000e+03</td>\n",
              "      <td>4938.000000</td>\n",
              "      <td>4874.000000</td>\n",
              "      <td>24.000000</td>\n",
              "    </tr>\n",
              "    <tr>\n",
              "      <th>mean</th>\n",
              "      <td>26957.135016</td>\n",
              "      <td>1219.199131</td>\n",
              "      <td>221519.381148</td>\n",
              "      <td>1.780356e+05</td>\n",
              "      <td>1.430985e+05</td>\n",
              "      <td>7145.795464</td>\n",
              "      <td>22224.867665</td>\n",
              "      <td>34.583333</td>\n",
              "    </tr>\n",
              "    <tr>\n",
              "      <th>std</th>\n",
              "      <td>95139.149892</td>\n",
              "      <td>4131.365404</td>\n",
              "      <td>244373.994631</td>\n",
              "      <td>5.319892e+05</td>\n",
              "      <td>4.256603e+05</td>\n",
              "      <td>25540.509572</td>\n",
              "      <td>73081.058572</td>\n",
              "      <td>72.926358</td>\n",
              "    </tr>\n",
              "    <tr>\n",
              "      <th>min</th>\n",
              "      <td>1.000000</td>\n",
              "      <td>1.000000</td>\n",
              "      <td>1.000000</td>\n",
              "      <td>3.250000e+03</td>\n",
              "      <td>-2.767580e+05</td>\n",
              "      <td>1.000000</td>\n",
              "      <td>1.000000</td>\n",
              "      <td>1.000000</td>\n",
              "    </tr>\n",
              "    <tr>\n",
              "      <th>25%</th>\n",
              "      <td>585.000000</td>\n",
              "      <td>27.000000</td>\n",
              "      <td>6779.250000</td>\n",
              "      <td>2.309825e+04</td>\n",
              "      <td>1.930125e+04</td>\n",
              "      <td>172.000000</td>\n",
              "      <td>918.250000</td>\n",
              "      <td>1.750000</td>\n",
              "    </tr>\n",
              "    <tr>\n",
              "      <th>50%</th>\n",
              "      <td>4711.000000</td>\n",
              "      <td>192.000000</td>\n",
              "      <td>133355.000000</td>\n",
              "      <td>4.506200e+04</td>\n",
              "      <td>3.655300e+04</td>\n",
              "      <td>879.000000</td>\n",
              "      <td>4931.000000</td>\n",
              "      <td>3.000000</td>\n",
              "    </tr>\n",
              "    <tr>\n",
              "      <th>75%</th>\n",
              "      <td>15066.000000</td>\n",
              "      <td>700.000000</td>\n",
              "      <td>374877.500000</td>\n",
              "      <td>8.429275e+04</td>\n",
              "      <td>6.669675e+04</td>\n",
              "      <td>2549.500000</td>\n",
              "      <td>13886.500000</td>\n",
              "      <td>6.250000</td>\n",
              "    </tr>\n",
              "    <tr>\n",
              "      <th>max</th>\n",
              "      <td>868675.000000</td>\n",
              "      <td>33759.000000</td>\n",
              "      <td>779779.000000</td>\n",
              "      <td>4.230353e+06</td>\n",
              "      <td>3.361678e+06</td>\n",
              "      <td>196268.000000</td>\n",
              "      <td>672407.000000</td>\n",
              "      <td>231.000000</td>\n",
              "    </tr>\n",
              "  </tbody>\n",
              "</table>\n",
              "</div>"
            ],
            "text/plain": [
              "           confirmed  ...  pcr_serological_test_positive\n",
              "count    5429.000000  ...                      24.000000\n",
              "mean    26957.135016  ...                      34.583333\n",
              "std     95139.149892  ...                      72.926358\n",
              "min         1.000000  ...                       1.000000\n",
              "25%       585.000000  ...                       1.750000\n",
              "50%      4711.000000  ...                       3.000000\n",
              "75%     15066.000000  ...                       6.250000\n",
              "max    868675.000000  ...                     231.000000\n",
              "\n",
              "[8 rows x 8 columns]"
            ]
          },
          "metadata": {
            "tags": []
          },
          "execution_count": 587
        }
      ]
    },
    {
      "cell_type": "code",
      "metadata": {
        "id": "OFhewGMBdEs_",
        "outputId": "ea02e126-f7e6-4c0b-a193-c08cfb3a89ed",
        "colab": {
          "base_uri": "https://localhost:8080/",
          "height": 526
        }
      },
      "source": [
        "covid_cases[\"region\"].value_counts()"
      ],
      "execution_count": 588,
      "outputs": [
        {
          "output_type": "execute_result",
          "data": {
            "text/plain": [
              "Cusco                 220\n",
              "Ica                   220\n",
              "Arequipa              220\n",
              "Huánuco               220\n",
              "La Libertad           218\n",
              "Lambayeque            218\n",
              "Ancash                218\n",
              "Piura                 218\n",
              "Callao                218\n",
              "Loreto                216\n",
              "Madre de Dios         215\n",
              "Junín                 213\n",
              "San Martín            210\n",
              "Tumbes                209\n",
              "Cajamarca             208\n",
              "Pasco                 206\n",
              "Tacna                 204\n",
              "Ayacucho              204\n",
              "Huancavelica          201\n",
              "Apurimac              199\n",
              "Moquegua              197\n",
              "Puno                  195\n",
              "Amazonas              194\n",
              "Ucayali               192\n",
              "Lima                  114\n",
              "Lima Metropolitana    106\n",
              "Lima Región           106\n",
              "Name: region, dtype: int64"
            ]
          },
          "metadata": {
            "tags": []
          },
          "execution_count": 588
        }
      ]
    },
    {
      "cell_type": "code",
      "metadata": {
        "id": "ix1oFv11cwQ3",
        "outputId": "ff59fb02-f6e5-438d-a04e-479ff116230b",
        "colab": {
          "base_uri": "https://localhost:8080/",
          "height": 299
        }
      },
      "source": [
        "covid_cases[pd.isnull(covid_cases['region'])].plot(x='confirmed',y='deaths')"
      ],
      "execution_count": 589,
      "outputs": [
        {
          "output_type": "execute_result",
          "data": {
            "text/plain": [
              "<matplotlib.axes._subplots.AxesSubplot at 0x7f3df039a940>"
            ]
          },
          "metadata": {
            "tags": []
          },
          "execution_count": 589
        },
        {
          "output_type": "display_data",
          "data": {
            "image/png": "[encoded data removed]",
            "text/plain": [
              "<Figure size 432x288 with 1 Axes>"
            ]
          },
          "metadata": {
            "tags": [],
            "needs_background": "light"
          }
        }
      ]
    },
    {
      "cell_type": "code",
      "metadata": {
        "id": "MM8enycVd8co",
        "outputId": "7b2d3213-4dcd-48d3-cf55-ab8f5069b875",
        "colab": {
          "base_uri": "https://localhost:8080/",
          "height": 885
        }
      },
      "source": [
        "covid_cases.hist(bins=100, figsize=(30,20))\n",
        "plt.show()"
      ],
      "execution_count": 590,
      "outputs": [
        {
          "output_type": "display_data",
          "data": {
            "image/png": "[encoded data removed]",
            "text/plain": [
              "<Figure size 2160x1440 with 9 Axes>"
            ]
          },
          "metadata": {
            "tags": [],
            "needs_background": "light"
          }
        }
      ]
    },
    {
      "cell_type": "markdown",
      "metadata": {
        "id": "NdNhxldmcco4"
      },
      "source": [
        "Las columnas necesarias para predecir lo pedido, son necesarias las columnas confirmed, deaths y date.\n",
        "Además se puede visualizar cuantos afectados hay por región en el Perú.\n",
        "\n",
        "Se separan los datos que se necesitan, se toma todas las regiones. Y se separa las columnas a usar como: date, confirmed y deaths.\n",
        "\n",
        "EX"
      ]
    },
    {
      "cell_type": "code",
      "metadata": {
        "id": "3TkTzFd4jo9i"
      },
      "source": [
        "datos_peru = covid_cases.loc[pd.isnull(covid_cases['region'])]\n",
        "datos_peru = datos_peru.drop(['country','iso3c','region','recovered','negative_tests','total_tests','negative_tests','pcr_test_positive','serological_test_positive', 'pcr_serological_test_positive'], axis=1)\n",
        "\n",
        "#CREAR SUBCONJUNTOS, VI fecha\n",
        "datos_deaths = datos_peru[['date','deaths','confirmed']]\n",
        "datos_confirmed = datos_peru[['date','confirmed','deaths']]\n",
        "datos_deaths = datos_deaths.drop(['confirmed'],axis=1)\n",
        "datos_confirmed = datos_confirmed.drop(['deaths'],axis=1)"
      ],
      "execution_count": 591,
      "outputs": []
    },
    {
      "cell_type": "markdown",
      "metadata": {
        "id": "7fzGJp6SlaFZ"
      },
      "source": [
        "# **Convertir fecha a números**\n",
        "\n",
        "Para el entrenamiento se toma los datos desde el inicio hasta el 31 de agosto. Para el testeo se toma los datos desde el 1 de septiembre hasta el final del csv."
      ]
    },
    {
      "cell_type": "code",
      "metadata": {
        "id": "_sSlYjYJlfeT"
      },
      "source": [
        "datos_deaths['date'] = pd.to_datetime(datos_deaths['date']).dt.strftime(\"%Y%m%d\").astype(int)\n",
        "datos_confirmed['date'] = pd.to_datetime(datos_confirmed['date']).dt.strftime(\"%Y%m%d\").astype(int)\n",
        "new_date = list(range(1,len(datos_confirmed)+1))\n",
        "datos_deaths_rw = datos_deaths.values\n",
        "fecha_lim = np.where(datos_deaths_rw[:,0] == 20200901)"
      ],
      "execution_count": 592,
      "outputs": []
    },
    {
      "cell_type": "markdown",
      "metadata": {
        "id": "Vn3V2j4j0RaX"
      },
      "source": [
        "Generar un arreglo continuo de enteros new_date que representa los días transcurridos. Reeplaza a date"
      ]
    },
    {
      "cell_type": "code",
      "metadata": {
        "id": "yw0xCoqDnY6Z"
      },
      "source": [
        "datos_deaths_rw = datos_deaths.values.astype(np.float32)\n",
        "datos_deaths_rw[:,0] = new_date\n",
        "datos_confirmed_rw = datos_confirmed.values.astype(np.float32)\n",
        "datos_confirmed_rw[:,0] = new_date"
      ],
      "execution_count": 593,
      "outputs": []
    },
    {
      "cell_type": "code",
      "metadata": {
        "id": "N6LZSm4NzZZy",
        "outputId": "8a778908-c794-4987-aca9-a3eae394f16a",
        "colab": {
          "base_uri": "https://localhost:8080/",
          "height": 55
        }
      },
      "source": [
        "print(new_date)"
      ],
      "execution_count": 594,
      "outputs": [
        {
          "output_type": "stream",
          "text": [
            "[1, 2, 3, 4, 5, 6, 7, 8, 9, 10, 11, 12, 13, 14, 15, 16, 17, 18, 19, 20, 21, 22, 23, 24, 25, 26, 27, 28, 29, 30, 31, 32, 33, 34, 35, 36, 37, 38, 39, 40, 41, 42, 43, 44, 45, 46, 47, 48, 49, 50, 51, 52, 53, 54, 55, 56, 57, 58, 59, 60, 61, 62, 63, 64, 65, 66, 67, 68, 69, 70, 71, 72, 73, 74, 75, 76, 77, 78, 79, 80, 81, 82, 83, 84, 85, 86, 87, 88, 89, 90, 91, 92, 93, 94, 95, 96, 97, 98, 99, 100, 101, 102, 103, 104, 105, 106, 107, 108, 109, 110, 111, 112, 113, 114, 115, 116, 117, 118, 119, 120, 121, 122, 123, 124, 125, 126, 127, 128, 129, 130, 131, 132, 133, 134, 135, 136, 137, 138, 139, 140, 141, 142, 143, 144, 145, 146, 147, 148, 149, 150, 151, 152, 153, 154, 155, 156, 157, 158, 159, 160, 161, 162, 163, 164, 165, 166, 167, 168, 169, 170, 171, 172, 173, 174, 175, 176, 177, 178, 179, 180, 181, 182, 183, 184, 185, 186, 187, 188, 189, 190, 191, 192, 193, 194, 195, 196, 197, 198, 199, 200, 201, 202, 203, 204, 205, 206, 207, 208, 209, 210, 211, 212, 213, 214, 215, 216, 217, 218, 219, 220, 221, 222, 223, 224, 225, 226]\n"
          ],
          "name": "stdout"
        }
      ]
    },
    {
      "cell_type": "markdown",
      "metadata": {
        "id": "kTe35Iw9nu6h"
      },
      "source": [
        "# **Adaptación NAN y preparación de los datos**"
      ]
    },
    {
      "cell_type": "code",
      "metadata": {
        "id": "Qf9h-akZn2A4"
      },
      "source": [
        "#reemplazar nan\n",
        "index = np.where(np.isnan(datos_deaths_rw))\n",
        "datos_deaths_rw[index] = 0"
      ],
      "execution_count": 595,
      "outputs": []
    },
    {
      "cell_type": "code",
      "metadata": {
        "id": "xCQ0htq4oKAP"
      },
      "source": [
        "def Normalizar_datos(arr):\n",
        "  media = np.nanmean(arr,0)\n",
        "  des_std = np.nanstd(arr,0)\n",
        "  print(media,des_std)\n",
        "  for i in range(0, arr.shape[0]):\n",
        "    arr[i] = np.true_divide((arr[i] - media),des_std)\n",
        "  return arr, media, des_std\n",
        "  #retorna el arreglo normalizado, la media y la desviacion standar"
      ],
      "execution_count": 596,
      "outputs": []
    },
    {
      "cell_type": "markdown",
      "metadata": {
        "id": "XuPxdNnwpBPq"
      },
      "source": [
        "Normalizar"
      ]
    },
    {
      "cell_type": "code",
      "metadata": {
        "id": "nYkH7A9go96J",
        "outputId": "22746da9-feea-4160-c8d5-c208eeb0c000",
        "colab": {
          "base_uri": "https://localhost:8080/",
          "height": 54
        }
      },
      "source": [
        "datos_deaths_rw, _, _ = Normalizar_datos(datos_deaths_rw)\n",
        "datos_confirmed_rw, _, _ = Normalizar_datos(datos_confirmed_rw)"
      ],
      "execution_count": 597,
      "outputs": [
        {
          "output_type": "stream",
          "text": [
            "[  113.5  13364.11] [   65.239944 12523.929   ]\n",
            "[1.1350000e+02 3.3139622e+05] [6.5239944e+01 2.9172478e+05]\n"
          ],
          "name": "stdout"
        }
      ]
    },
    {
      "cell_type": "code",
      "metadata": {
        "id": "G1PT6hbHqrEX"
      },
      "source": [
        "def Adaptar_conjuntos(train, test):\n",
        "  test_y = test[:,-1:]\n",
        "  test_x = test[:,0:-1]\n",
        "  train_y = train[:,-1:]\n",
        "  train_x = train[:,0:-1]\n",
        "\n",
        "  train_x = np.insert(train_x, 0, 1, axis=1)\n",
        "  test_x = np.insert(test_x, 0, 1, axis=1)\n",
        "  return train_x, train_y, test_x, test_y"
      ],
      "execution_count": 598,
      "outputs": []
    },
    {
      "cell_type": "markdown",
      "metadata": {
        "id": "Y71q-J331XFx"
      },
      "source": [
        "Separar los conjuntos de datos en train(x,y) y test(x,y).\n",
        "Crear vectores de thetas."
      ]
    },
    {
      "cell_type": "code",
      "metadata": {
        "id": "OvKKaJkqr7Np"
      },
      "source": [
        "#dividir segun fecha limite\n",
        "train_set_deaths, test_set_deaths = np.split(datos_deaths_rw, fecha_lim[0])\n",
        "train_set_confirmed, test_set_confirmed = np.split(datos_confirmed_rw,fecha_lim[0])\n",
        "\n",
        "train_deaths_x, train_deaths_y, test_deaths_x, test_deaths_y = Adaptar_conjuntos(train_set_deaths, test_set_deaths)\n",
        "theta_deaths = np.zeros(train_deaths_x.shape[1])[np.newaxis]\n",
        "\n",
        "train_confirmed_x, train_confirmed_y, test_confirmed_x, test_confirmed_y = Adaptar_conjuntos(train_set_confirmed, test_set_confirmed)\n",
        "theta_confirmed = np.zeros(train_confirmed_x.shape[1])[np.newaxis]"
      ],
      "execution_count": 599,
      "outputs": []
    },
    {
      "cell_type": "code",
      "metadata": {
        "id": "5kgmIP5Kx-xu"
      },
      "source": [
        "def Calcular_Costo(X, Y, Theta):\n",
        "    m = len(X)\n",
        "    costo = np.sum((X.dot(Theta.T) - Y)**2) / (2 * m)\n",
        "    return costo "
      ],
      "execution_count": 600,
      "outputs": []
    },
    {
      "cell_type": "code",
      "metadata": {
        "id": "YfsTYlNJyHtF"
      },
      "source": [
        "def Gradiente_Descendiente(X, Y, Theta, iteraciones, tasa):\n",
        "    costos = [0]*iteraciones\n",
        "    m = len(X)\n",
        "    for itr in range(iteraciones):\n",
        "        h = X.dot(Theta.T)\n",
        "        dif = h - Y\n",
        "        derivada = (X.T).dot(dif) / m\n",
        "        Theta = Theta - (tasa * derivada).T\n",
        "        costos[itr] = Calcular_Costo(X, Y, Theta)\n",
        "    return Theta, costos"
      ],
      "execution_count": 601,
      "outputs": []
    },
    {
      "cell_type": "markdown",
      "metadata": {
        "id": "kWHXXf4iyhI1"
      },
      "source": [
        "Se aplica el algoritmo de gradiente descendiente para realizar regresion lineal. Luego se calcula los valores para el conjunto de testeo usando los nuevos thetas."
      ]
    },
    {
      "cell_type": "code",
      "metadata": {
        "id": "D9d-KJlH4DIf"
      },
      "source": [
        "#def hypothesis(theta, X):\n",
        "    #return theta*X"
      ],
      "execution_count": 602,
      "outputs": []
    },
    {
      "cell_type": "code",
      "metadata": {
        "id": "9rOuCHAYyuWm"
      },
      "source": [
        "new_theta_deaths, costos_deaths = Gradiente_Descendiente(train_deaths_x,train_deaths_y,theta_deaths, 2500, 0.1)\n",
        "new_theta_confirmed, costos_confirmed = Gradiente_Descendiente(train_confirmed_x,train_confirmed_y,theta_confirmed, 2500, 0.1)"
      ],
      "execution_count": 603,
      "outputs": []
    },
    {
      "cell_type": "code",
      "metadata": {
        "id": "ZzI044KtzQN0"
      },
      "source": [
        "deaths_prediccion_y = test_deaths_x.dot(new_theta_deaths.T)\n",
        "confirmed_prediccion_y = test_confirmed_x.dot(new_theta_confirmed.T)"
      ],
      "execution_count": 604,
      "outputs": []
    },
    {
      "cell_type": "code",
      "metadata": {
        "id": "MzXMtIbtzkyE",
        "outputId": "351626db-9056-4fff-b609-a1b308321618",
        "colab": {
          "base_uri": "https://localhost:8080/",
          "height": 368
        }
      },
      "source": [
        "fig, ax = plt.subplots(1, 2, figsize=(15,5))\n",
        "\n",
        "ax[0].scatter(test_deaths_x[:,1], test_deaths_y, alpha=0.9, c=\"red\")\n",
        "ax[0].scatter(test_deaths_x[:,1], deaths_prediccion_y, alpha=0.8, c=\"green\")\n",
        "ax[0].plot(train_deaths_x[:,1], train_deaths_y, \"-o\")\n",
        "ax[0].set_title(\"Deaths\")\n",
        "ax[0].set_ylabel('Muertes')\n",
        "ax[0].set_xlabel('Dias')\n",
        "\n",
        "ax[1].scatter(test_confirmed_x[:,1], test_confirmed_y, alpha=0.9, c=\"red\")\n",
        "ax[1].scatter(test_confirmed_x[:,1], confirmed_prediccion_y, alpha=0.8, c=\"green\")\n",
        "ax[1].plot(train_confirmed_x[:,1], train_confirmed_y, \"-o\")\n",
        "ax[1].set_title(\"Confirmed\")\n",
        "ax[1].set_ylabel('Contagiados')\n",
        "ax[1].set_xlabel('Dias')"
      ],
      "execution_count": 605,
      "outputs": [
        {
          "output_type": "execute_result",
          "data": {
            "text/plain": [
              "Text(0.5, 0, 'Dias')"
            ]
          },
          "metadata": {
            "tags": []
          },
          "execution_count": 605
        },
        {
          "output_type": "display_data",
          "data": {
            "image/png": "[encoded data removed]",
            "text/plain": [
              "<Figure size 1080x360 with 2 Axes>"
            ]
          },
          "metadata": {
            "tags": [],
            "needs_background": "light"
          }
        }
      ]
    },
    {
      "cell_type": "markdown",
      "metadata": {
        "id": "w5kY46v00daD"
      },
      "source": [
        "De esto se concluye que el modelo tiene errores, el comportamiento de las variables es exponencial.\n",
        "Se crea un subconjunto con datos date y confirmed como VI, y deaths como VD."
      ]
    },
    {
      "cell_type": "code",
      "metadata": {
        "id": "5AVlDaJw0180"
      },
      "source": [
        "datos_confirmed_deaths = datos_peru[['date','confirmed','deaths']]"
      ],
      "execution_count": 606,
      "outputs": []
    },
    {
      "cell_type": "code",
      "metadata": {
        "id": "yO8UBDCk34hb",
        "outputId": "acb40647-414a-4e8b-bca5-c7be2f195009",
        "colab": {
          "base_uri": "https://localhost:8080/",
          "height": 198
        }
      },
      "source": [
        "datos_confirmed_deaths['date'] = pd.to_datetime(datos_confirmed_deaths['date']).dt.strftime(\"%Y%m%d\").astype(int)\n",
        "datos_confirmed_deaths.head()\n",
        "datos_confirmed_deaths.tail()"
      ],
      "execution_count": 607,
      "outputs": [
        {
          "output_type": "execute_result",
          "data": {
            "text/html": [
              "<div>\n",
              "<style scoped>\n",
              "    .dataframe tbody tr th:only-of-type {\n",
              "        vertical-align: middle;\n",
              "    }\n",
              "\n",
              "    .dataframe tbody tr th {\n",
              "        vertical-align: top;\n",
              "    }\n",
              "\n",
              "    .dataframe thead th {\n",
              "        text-align: right;\n",
              "    }\n",
              "</style>\n",
              "<table border=\"1\" class=\"dataframe\">\n",
              "  <thead>\n",
              "    <tr style=\"text-align: right;\">\n",
              "      <th></th>\n",
              "      <th>date</th>\n",
              "      <th>confirmed</th>\n",
              "      <th>deaths</th>\n",
              "    </tr>\n",
              "  </thead>\n",
              "  <tbody>\n",
              "    <tr>\n",
              "      <th>5476</th>\n",
              "      <td>20201014</td>\n",
              "      <td>856951.0</td>\n",
              "      <td>33512.0</td>\n",
              "    </tr>\n",
              "    <tr>\n",
              "      <th>5503</th>\n",
              "      <td>20201015</td>\n",
              "      <td>859740.0</td>\n",
              "      <td>33577.0</td>\n",
              "    </tr>\n",
              "    <tr>\n",
              "      <th>5530</th>\n",
              "      <td>20201016</td>\n",
              "      <td>862417.0</td>\n",
              "      <td>33648.0</td>\n",
              "    </tr>\n",
              "    <tr>\n",
              "      <th>5557</th>\n",
              "      <td>20201017</td>\n",
              "      <td>865549.0</td>\n",
              "      <td>33702.0</td>\n",
              "    </tr>\n",
              "    <tr>\n",
              "      <th>5584</th>\n",
              "      <td>20201018</td>\n",
              "      <td>868675.0</td>\n",
              "      <td>33759.0</td>\n",
              "    </tr>\n",
              "  </tbody>\n",
              "</table>\n",
              "</div>"
            ],
            "text/plain": [
              "          date  confirmed   deaths\n",
              "5476  20201014   856951.0  33512.0\n",
              "5503  20201015   859740.0  33577.0\n",
              "5530  20201016   862417.0  33648.0\n",
              "5557  20201017   865549.0  33702.0\n",
              "5584  20201018   868675.0  33759.0"
            ]
          },
          "metadata": {
            "tags": []
          },
          "execution_count": 607
        }
      ]
    },
    {
      "cell_type": "code",
      "metadata": {
        "id": "pcjF2bkWlpWP"
      },
      "source": [
        "datos_deaths_confirmed = datos_peru[['date','deaths', 'confirmed']]"
      ],
      "execution_count": 608,
      "outputs": []
    },
    {
      "cell_type": "code",
      "metadata": {
        "id": "VTeIRrtsl1m1",
        "outputId": "83b81857-6aec-4a76-a061-bd647b4efcae",
        "colab": {
          "base_uri": "https://localhost:8080/",
          "height": 198
        }
      },
      "source": [
        "datos_deaths_confirmed['date'] = pd.to_datetime(datos_deaths_confirmed['date']).dt.strftime(\"%Y%m%d\").astype(int)\n",
        "datos_deaths_confirmed.head()\n",
        "datos_deaths_confirmed.tail()"
      ],
      "execution_count": 609,
      "outputs": [
        {
          "output_type": "execute_result",
          "data": {
            "text/html": [
              "<div>\n",
              "<style scoped>\n",
              "    .dataframe tbody tr th:only-of-type {\n",
              "        vertical-align: middle;\n",
              "    }\n",
              "\n",
              "    .dataframe tbody tr th {\n",
              "        vertical-align: top;\n",
              "    }\n",
              "\n",
              "    .dataframe thead th {\n",
              "        text-align: right;\n",
              "    }\n",
              "</style>\n",
              "<table border=\"1\" class=\"dataframe\">\n",
              "  <thead>\n",
              "    <tr style=\"text-align: right;\">\n",
              "      <th></th>\n",
              "      <th>date</th>\n",
              "      <th>deaths</th>\n",
              "      <th>confirmed</th>\n",
              "    </tr>\n",
              "  </thead>\n",
              "  <tbody>\n",
              "    <tr>\n",
              "      <th>5476</th>\n",
              "      <td>20201014</td>\n",
              "      <td>33512.0</td>\n",
              "      <td>856951.0</td>\n",
              "    </tr>\n",
              "    <tr>\n",
              "      <th>5503</th>\n",
              "      <td>20201015</td>\n",
              "      <td>33577.0</td>\n",
              "      <td>859740.0</td>\n",
              "    </tr>\n",
              "    <tr>\n",
              "      <th>5530</th>\n",
              "      <td>20201016</td>\n",
              "      <td>33648.0</td>\n",
              "      <td>862417.0</td>\n",
              "    </tr>\n",
              "    <tr>\n",
              "      <th>5557</th>\n",
              "      <td>20201017</td>\n",
              "      <td>33702.0</td>\n",
              "      <td>865549.0</td>\n",
              "    </tr>\n",
              "    <tr>\n",
              "      <th>5584</th>\n",
              "      <td>20201018</td>\n",
              "      <td>33759.0</td>\n",
              "      <td>868675.0</td>\n",
              "    </tr>\n",
              "  </tbody>\n",
              "</table>\n",
              "</div>"
            ],
            "text/plain": [
              "          date   deaths  confirmed\n",
              "5476  20201014  33512.0   856951.0\n",
              "5503  20201015  33577.0   859740.0\n",
              "5530  20201016  33648.0   862417.0\n",
              "5557  20201017  33702.0   865549.0\n",
              "5584  20201018  33759.0   868675.0"
            ]
          },
          "metadata": {
            "tags": []
          },
          "execution_count": 609
        }
      ]
    },
    {
      "cell_type": "markdown",
      "metadata": {
        "id": "lKsRB0Qt4WQG"
      },
      "source": [
        "# **CASOS NUEVOS POR DÍA**\n",
        "\n",
        "MUERTES"
      ]
    },
    {
      "cell_type": "code",
      "metadata": {
        "id": "x-pLD-T24diL",
        "outputId": "e8685978-b5bb-4277-8bd9-de168464388b",
        "colab": {
          "base_uri": "https://localhost:8080/",
          "height": 35
        }
      },
      "source": [
        "datos_confirmed_deaths_rw = datos_confirmed_deaths.values.astype(np.float32)\n",
        "index = np.where(np.isnan(datos_confirmed_deaths_rw))\n",
        "datos_confirmed_deaths_rw[index] = 0\n",
        "\n",
        "O_datos_confirmed_deaths_rw = np.zeros(datos_confirmed_deaths_rw.shape)\n",
        "crecimiento = np.zeros(len(datos_confirmed_deaths_rw) - 1)\n",
        "O_datos_confirmed_deaths_rw[0] = datos_confirmed_deaths_rw[0]\n",
        "O_datos_confirmed_deaths_rw[:,0] = new_date[:]\n",
        "\n",
        "for i in range(1,len(datos_confirmed_deaths_rw)):\n",
        "    O_datos_confirmed_deaths_rw[i,1] = datos_confirmed_deaths_rw[i,1] - datos_confirmed_deaths_rw[i-1,1]\n",
        "    O_datos_confirmed_deaths_rw[i,2] = datos_confirmed_deaths_rw[i,2] - datos_confirmed_deaths_rw[i-1,2]\n",
        "    crecimiento[i-1] = datos_confirmed_deaths_rw[i,1] / datos_confirmed_deaths_rw[i-1,1]\n",
        "\n",
        "av_crecimiento = np.mean(crecimiento[-10:])\n",
        "av_crecimiento"
      ],
      "execution_count": 610,
      "outputs": [
        {
          "output_type": "execute_result",
          "data": {
            "text/plain": [
              "1.0035284161567688"
            ]
          },
          "metadata": {
            "tags": []
          },
          "execution_count": 610
        }
      ]
    },
    {
      "cell_type": "code",
      "metadata": {
        "id": "Z-L89gUH5DcE",
        "outputId": "1db6080a-60fe-44a6-f6cb-d19821453dc5",
        "colab": {
          "base_uri": "https://localhost:8080/",
          "height": 584
        }
      },
      "source": [
        "fig, ax = plt.subplots(1, 2, figsize=(25,10))\n",
        "\n",
        "ax[0].plot(O_datos_confirmed_deaths_rw[:,0], O_datos_confirmed_deaths_rw[:,2], \"-o\")\n",
        "ax[0].set_title(\"Datos_Deaths\")\n",
        "ax[0].set_ylabel('Muertes')\n",
        "ax[0].set_xlabel('Dias')\n",
        "\n",
        "ax[1].plot(O_datos_confirmed_deaths_rw[:,0], O_datos_confirmed_deaths_rw[:,1], \"-o\")\n",
        "ax[1].set_title(\"Datos_Confirmed\")\n",
        "ax[1].set_ylabel('Contagiados')\n",
        "ax[1].set_xlabel('Dias')"
      ],
      "execution_count": 611,
      "outputs": [
        {
          "output_type": "execute_result",
          "data": {
            "text/plain": [
              "Text(0.5, 0, 'Dias')"
            ]
          },
          "metadata": {
            "tags": []
          },
          "execution_count": 611
        },
        {
          "output_type": "display_data",
          "data": {
            "image/png": "[encoded data removed]",
            "text/plain": [
              "<Figure size 1800x720 with 2 Axes>"
            ]
          },
          "metadata": {
            "tags": [],
            "needs_background": "light"
          }
        }
      ]
    },
    {
      "cell_type": "code",
      "metadata": {
        "id": "zwurXbYq5i5i",
        "outputId": "d86a1b7b-0da1-4c57-ae74-21410ee09cdd",
        "colab": {
          "base_uri": "https://localhost:8080/",
          "height": 35
        }
      },
      "source": [
        "O_datos_confirmed_deaths_rw, _, _ = Normalizar_datos(O_datos_confirmed_deaths_rw)\n",
        "train_set_DCD, test_set_DCD = np.split(O_datos_confirmed_deaths_rw, fecha_lim[0])\n",
        "\n",
        "train_DCD_x, train_DCD_y, test_DCD_x, test_DCD_y = Adaptar_conjuntos(train_set_DCD, test_set_DCD)\n",
        "theta_DCD = np.zeros(train_DCD_x.shape[1])[np.newaxis]"
      ],
      "execution_count": 612,
      "outputs": [
        {
          "output_type": "stream",
          "text": [
            "[ 113.5        3843.69469027  149.37610619] [  65.23994175 2516.20107313  362.67731721]\n"
          ],
          "name": "stdout"
        }
      ]
    },
    {
      "cell_type": "code",
      "metadata": {
        "id": "NcYe6zRQ6Qii",
        "outputId": "de6d30fa-c598-459d-dc8b-87c51fabcfb1",
        "colab": {
          "base_uri": "https://localhost:8080/",
          "height": 283
        }
      },
      "source": [
        "newtheta_DCD, costos_DCD = Gradiente_Descendiente(train_DCD_x, train_DCD_y, theta_DCD, 2500, 0.1)\n",
        "plt.scatter(np.arange(2500), costos_DCD, alpha=0.8, c=\"red\", s=5)"
      ],
      "execution_count": 613,
      "outputs": [
        {
          "output_type": "execute_result",
          "data": {
            "text/plain": [
              "<matplotlib.collections.PathCollection at 0x7f3dee70f2e8>"
            ]
          },
          "metadata": {
            "tags": []
          },
          "execution_count": 613
        },
        {
          "output_type": "display_data",
          "data": {
            "image/png": "[encoded data removed]",
            "text/plain": [
              "<Figure size 432x288 with 1 Axes>"
            ]
          },
          "metadata": {
            "tags": [],
            "needs_background": "light"
          }
        }
      ]
    },
    {
      "cell_type": "code",
      "metadata": {
        "id": "2vugPywU6yOn",
        "outputId": "739b10f4-e64c-40f4-f8bd-d69fbf80bbee",
        "colab": {
          "base_uri": "https://localhost:8080/",
          "height": 297
        }
      },
      "source": [
        "DCD_test_y = test_DCD_x.dot(newtheta_DCD.T)\n",
        "\n",
        "plt.plot(O_datos_confirmed_deaths_rw[:,0], O_datos_confirmed_deaths_rw[:,-1],'-o')\n",
        "plt.plot(test_DCD_x[:,1], DCD_test_y,'-o')\n",
        "plt.xlabel('Dias')\n",
        "plt.ylabel('Muertes predicción')"
      ],
      "execution_count": 614,
      "outputs": [
        {
          "output_type": "execute_result",
          "data": {
            "text/plain": [
              "Text(0, 0.5, 'Muertes predicción')"
            ]
          },
          "metadata": {
            "tags": []
          },
          "execution_count": 614
        },
        {
          "output_type": "display_data",
          "data": {
            "image/png": "[encoded data removed]",
            "text/plain": [
              "<Figure size 432x288 with 1 Axes>"
            ]
          },
          "metadata": {
            "tags": [],
            "needs_background": "light"
          }
        }
      ]
    },
    {
      "cell_type": "markdown",
      "metadata": {
        "id": "jVaIin4L67B0"
      },
      "source": [
        "Se calcula las nuevas muertes por día y se evalua con las métricas mean squared error y root mean squared error."
      ]
    },
    {
      "cell_type": "code",
      "metadata": {
        "id": "ZydwGVrp7Q-r"
      },
      "source": [
        "from sklearn.metrics import mean_squared_error\n",
        "from sklearn.metrics import r2_score\n",
        "from math import sqrt"
      ],
      "execution_count": 615,
      "outputs": []
    },
    {
      "cell_type": "code",
      "metadata": {
        "id": "HyHHydx97Tx6",
        "outputId": "c9389533-76ab-4d2c-96ee-8d8131ea19c0",
        "colab": {
          "base_uri": "https://localhost:8080/",
          "height": 54
        }
      },
      "source": [
        "print ('MSE', mean_squared_error(test_DCD_y, DCD_test_y))\n",
        "print ('RMSE', sqrt(mean_squared_error(test_DCD_y, DCD_test_y)))"
      ],
      "execution_count": 616,
      "outputs": [
        {
          "output_type": "stream",
          "text": [
            "MSE 0.5165065937439484\n",
            "RMSE 0.7186839317418668\n"
          ],
          "name": "stdout"
        }
      ]
    },
    {
      "cell_type": "markdown",
      "metadata": {
        "id": "r2bX1or57m-q"
      },
      "source": [
        "# **TOTAL CASOS**\n",
        "\n",
        "MUERTES"
      ]
    },
    {
      "cell_type": "code",
      "metadata": {
        "id": "qSywCTcs7o75"
      },
      "source": [
        "datos_confirmed_deaths_rw = datos_confirmed_deaths.values.astype(np.float32)\n",
        "index = np.where(np.isnan(datos_confirmed_deaths_rw))\n",
        "datos_confirmed_deaths_rw[index] = 0\n",
        "datos_confirmed_deaths_rw[:,0] = new_date\n",
        "\n",
        "#se usa despues\n",
        "futuro = 11\n",
        "cnt_real = len(datos_confirmed_deaths_rw)"
      ],
      "execution_count": 617,
      "outputs": []
    },
    {
      "cell_type": "code",
      "metadata": {
        "id": "_wOT3Lnw7lxC",
        "outputId": "fd3b451b-d73b-4707-fddc-8bc05b5a4a9b",
        "colab": {
          "base_uri": "https://localhost:8080/",
          "height": 35
        }
      },
      "source": [
        "DCD_rw, _, _ = Normalizar_datos(datos_confirmed_deaths_rw)\n",
        "\n",
        "train_set_DCD, test_set_DCD = np.split(DCD_rw, fecha_lim[0])\n",
        "\n",
        "train_DCD_x, train_DCD_y, test_DCD_x, test_DCD_y = Adaptar_conjuntos(train_set_DCD, test_set_DCD)\n",
        "theta_DCD = np.zeros(train_DCD_x.shape[1])[np.newaxis]"
      ],
      "execution_count": 618,
      "outputs": [
        {
          "output_type": "stream",
          "text": [
            "[1.1350000e+02 3.3139622e+05 1.3364110e+04] [6.5239944e+01 2.9172478e+05 1.2523929e+04]\n"
          ],
          "name": "stdout"
        }
      ]
    },
    {
      "cell_type": "code",
      "metadata": {
        "id": "ZF_h9JYd9Ebc",
        "outputId": "d0a01b3b-5f66-45f1-e17b-6e2419eb2d6c",
        "colab": {
          "base_uri": "https://localhost:8080/",
          "height": 283
        }
      },
      "source": [
        "newtheta_DCD, costos_DCD = Gradiente_Descendiente(train_DCD_x, train_DCD_y, theta_DCD, 2500, 0.1)\n",
        "plt.scatter(np.arange(2500), costos_DCD, alpha=0.8, c=\"red\", s=5)"
      ],
      "execution_count": 619,
      "outputs": [
        {
          "output_type": "execute_result",
          "data": {
            "text/plain": [
              "<matplotlib.collections.PathCollection at 0x7f3df060bd68>"
            ]
          },
          "metadata": {
            "tags": []
          },
          "execution_count": 619
        },
        {
          "output_type": "display_data",
          "data": {
            "image/png": "[encoded data removed]",
            "text/plain": [
              "<Figure size 432x288 with 1 Axes>"
            ]
          },
          "metadata": {
            "tags": [],
            "needs_background": "light"
          }
        }
      ]
    },
    {
      "cell_type": "code",
      "metadata": {
        "id": "NBA2n7E29R5B",
        "outputId": "a4975e93-2a41-4830-e9bd-8c6a5d7445b6",
        "colab": {
          "base_uri": "https://localhost:8080/",
          "height": 313
        }
      },
      "source": [
        "DCD_test_y = test_DCD_x.dot(newtheta_DCD.T)\n",
        "\n",
        "plt.scatter(test_DCD_x[:,1], test_DCD_y, alpha=0.7, c=\"red\")\n",
        "plt.scatter(test_DCD_x[:,1], DCD_test_y, alpha=0.7, c=\"green\")\n",
        "plt.plot(train_DCD_x[:,1], train_DCD_y, \"-o\")\n",
        "plt.title(\"Datos_Confirmed_Deaths\")\n",
        "plt.ylabel('Muertes')\n",
        "plt.xlabel('Dias')"
      ],
      "execution_count": 620,
      "outputs": [
        {
          "output_type": "execute_result",
          "data": {
            "text/plain": [
              "Text(0.5, 0, 'Dias')"
            ]
          },
          "metadata": {
            "tags": []
          },
          "execution_count": 620
        },
        {
          "output_type": "display_data",
          "data": {
            "image/png": "[encoded data removed]",
            "text/plain": [
              "<Figure size 432x288 with 1 Axes>"
            ]
          },
          "metadata": {
            "tags": [],
            "needs_background": "light"
          }
        }
      ]
    },
    {
      "cell_type": "code",
      "metadata": {
        "id": "tk7AGo2B90OK",
        "outputId": "720a9753-da9a-4710-9bb7-6ae17c56d107",
        "colab": {
          "base_uri": "https://localhost:8080/",
          "height": 54
        }
      },
      "source": [
        "print ('MSE', mean_squared_error(test_DCD_y, DCD_test_y))\n",
        "print ('RMSE', sqrt(mean_squared_error(test_DCD_y, DCD_test_y)))"
      ],
      "execution_count": 621,
      "outputs": [
        {
          "output_type": "stream",
          "text": [
            "MSE 0.16212080419393923\n",
            "RMSE 0.4026422781998175\n"
          ],
          "name": "stdout"
        }
      ]
    },
    {
      "cell_type": "markdown",
      "metadata": {
        "id": "1Oyo1e-s-RIU"
      },
      "source": [
        "# **PREDICCIÓN**\n",
        "Muertes"
      ]
    },
    {
      "cell_type": "code",
      "metadata": {
        "id": "oG7oxsyz-UeZ"
      },
      "source": [
        "new_date = np.arange(cnt_real + futuro)\n",
        "new_date += 1\n",
        "\n",
        "DCD_PRED_rw = np.empty((cnt_real + futuro, datos_confirmed_deaths_rw.shape[1]))\n",
        "DCD_PRED_rw[:,0] = new_date"
      ],
      "execution_count": 622,
      "outputs": []
    },
    {
      "cell_type": "code",
      "metadata": {
        "id": "tZV1sFk9-9Ki"
      },
      "source": [
        "datos_confirmed_deaths_rw = datos_confirmed_deaths.values.astype(np.float32)\n",
        "index = np.where(np.isnan(datos_confirmed_deaths_rw))\n",
        "datos_confirmed_deaths_rw[index] = 0\n",
        "\n",
        "futuro_confirmed = np.empty((futuro,1))\n",
        "futuro_deaths = np.empty((futuro, 1))\n",
        "futuro_deaths[:] = np.nan\n",
        "\n",
        "futuro_confirmed[0] = datos_confirmed_deaths_rw[-1,1] * av_crecimiento\n",
        "for i in range(1,futuro):\n",
        "  futuro_confirmed[i] = futuro_confirmed[i-1] * av_crecimiento\n",
        "\n",
        "#union de datos reales con datos sinteticos\n",
        "DCD_PRED_rw[:,0] = new_date\n",
        "DCD_PRED_rw[:cnt_real,1] = datos_confirmed_deaths_rw[:,1]\n",
        "DCD_PRED_rw[:cnt_real,2] = datos_confirmed_deaths_rw[:,2]\n",
        "DCD_PRED_rw[cnt_real:,1] = futuro_confirmed.T\n",
        "DCD_PRED_rw[cnt_real:,2] = futuro_deaths.T"
      ],
      "execution_count": 623,
      "outputs": []
    },
    {
      "cell_type": "markdown",
      "metadata": {
        "id": "97oRUK15AORD"
      },
      "source": [
        "Dividir en tres subconjutos: train, test y predicción"
      ]
    },
    {
      "cell_type": "code",
      "metadata": {
        "id": "0dOnRKW-AEbY",
        "outputId": "0f36cef1-89fa-43a1-8152-bc5339f4de38",
        "colab": {
          "base_uri": "https://localhost:8080/",
          "height": 54
        }
      },
      "source": [
        "DCD_PRED_rw, media_DCD, des_std_DCD = Normalizar_datos(DCD_PRED_rw)\n",
        "ptr = np.append (fecha_lim[0],[cnt_real])\n",
        "train_set_PRED_DCD, test_set_PRED_DCD, PRED_set_DCD = np.split(DCD_PRED_rw,ptr)\n",
        "print(train_set_PRED_DCD.shape, test_set_PRED_DCD.shape, PRED_set_DCD.shape)\n",
        "\n",
        "train_DCD_PRED_x, train_DCD_PRED_y, test_DCD_PRED_x, test_DCD_PRED_y = Adaptar_conjuntos(train_set_PRED_DCD,test_set_PRED_DCD)\n",
        "\n",
        "DCD_PRED_x = PRED_set_DCD[:,0:-1]\n",
        "DCD_PRED_x = np.insert(DCD_PRED_x, 0, 1, axis=1)"
      ],
      "execution_count": 624,
      "outputs": [
        {
          "output_type": "stream",
          "text": [
            "[1.19000000e+02 3.57196875e+05 1.33641106e+04] [6.84153979e+01 3.07952133e+05 1.25239283e+04]\n",
            "(178, 3) (48, 3) (11, 3)\n"
          ],
          "name": "stdout"
        }
      ]
    },
    {
      "cell_type": "code",
      "metadata": {
        "id": "Z92-NzQFClNE",
        "outputId": "f081495e-731a-4545-d0aa-97acff6ba6c4",
        "colab": {
          "base_uri": "https://localhost:8080/",
          "height": 313
        }
      },
      "source": [
        "DCD_PRED_y = DCD_PRED_x.dot(newtheta_DCD.T)\n",
        "\n",
        "dif_x = test_DCD_x[-1,1] - DCD_PRED_x[0,1]\n",
        "dif_y = test_DCD_y[-1] - DCD_PRED_y[0]\n",
        "\n",
        "DCD_PRED_x[:,1] += dif_x\n",
        "DCD_PRED_y += dif_y\n",
        "\n",
        "plt.plot(train_DCD_x[:,1], train_DCD_y*des_std_DCD[2]+media_DCD[2], \"-o\",label='desde 2020-03-06 hasta 2020-08-31')\n",
        "plt.plot(test_DCD_x[:,1], test_DCD_y*des_std_DCD[2]+media_DCD[2],\"-o\",color=\"red\",label='desde 2020-09-01 hasta 2020-10-18')\n",
        "plt.plot(DCD_PRED_x[:,1], DCD_PRED_y*des_std_DCD[2]+media_DCD[2], \"-o\",color=\"green\",label='desde 2020-10-19 hasta 2020-10-29')\n",
        "\n",
        "plt.title(\"Muertes Predicción\")\n",
        "plt.ylabel('Muertes')\n",
        "plt.xlabel('Dias')\n",
        "plt.legend()"
      ],
      "execution_count": 625,
      "outputs": [
        {
          "output_type": "execute_result",
          "data": {
            "text/plain": [
              "<matplotlib.legend.Legend at 0x7f3df05f5240>"
            ]
          },
          "metadata": {
            "tags": []
          },
          "execution_count": 625
        },
        {
          "output_type": "display_data",
          "data": {
            "image/png": "[encoded data removed]",
            "text/plain": [
              "<Figure size 432x288 with 1 Axes>"
            ]
          },
          "metadata": {
            "tags": [],
            "needs_background": "light"
          }
        }
      ]
    },
    {
      "cell_type": "code",
      "metadata": {
        "id": "jBHLNsFZEc1x",
        "outputId": "42e20694-2c43-4e48-96e2-190e7a05d613",
        "colab": {
          "base_uri": "https://localhost:8080/",
          "height": 54
        }
      },
      "source": [
        "real_pred = np.rint(DCD_PRED_y*des_std_DCD[2]+media_DCD[2])\n",
        "real_pred.T"
      ],
      "execution_count": 626,
      "outputs": [
        {
          "output_type": "execute_result",
          "data": {
            "text/plain": [
              "array([[33759., 33878., 33998., 34119., 34240., 34362., 34485., 34608.,\n",
              "        34732., 34857., 34982.]])"
            ]
          },
          "metadata": {
            "tags": []
          },
          "execution_count": 626
        }
      ]
    },
    {
      "cell_type": "markdown",
      "metadata": {
        "id": "YQrjYgTnF7zp"
      },
      "source": [
        "CASOS"
      ]
    },
    {
      "cell_type": "code",
      "metadata": {
        "id": "NOHlkCd_DECd"
      },
      "source": [
        ""
      ],
      "execution_count": 626,
      "outputs": []
    },
    {
      "cell_type": "code",
      "metadata": {
        "id": "qtz3rrfvGCqE"
      },
      "source": [
        ""
      ],
      "execution_count": 626,
      "outputs": []
    },
    {
      "cell_type": "markdown",
      "metadata": {
        "id": "U5GvbrEFrozh"
      },
      "source": [
        "# **Arequipa**\n",
        "Seleccionar solo los datos de la región Arequipa"
      ]
    },
    {
      "cell_type": "code",
      "metadata": {
        "id": "cpATvzHirqvA",
        "outputId": "ddbe041f-e246-416f-bbf4-702e8eb11a97",
        "colab": {
          "base_uri": "https://localhost:8080/",
          "height": 648
        }
      },
      "source": [
        "data_aqp = covid_cases.loc[covid_cases['region'] == 'Arequipa']\n",
        "data_aqp = data_aqp.drop(['country','iso3c','region','recovered','negative_tests','total_tests','negative_tests','pcr_test_positive','serological_test_positive', 'pcr_serological_test_positive'], axis=1)\n",
        "data_aqp.tail(20)"
      ],
      "execution_count": 627,
      "outputs": [
        {
          "output_type": "execute_result",
          "data": {
            "text/html": [
              "<div>\n",
              "<style scoped>\n",
              "    .dataframe tbody tr th:only-of-type {\n",
              "        vertical-align: middle;\n",
              "    }\n",
              "\n",
              "    .dataframe tbody tr th {\n",
              "        vertical-align: top;\n",
              "    }\n",
              "\n",
              "    .dataframe thead th {\n",
              "        text-align: right;\n",
              "    }\n",
              "</style>\n",
              "<table border=\"1\" class=\"dataframe\">\n",
              "  <thead>\n",
              "    <tr style=\"text-align: right;\">\n",
              "      <th></th>\n",
              "      <th>date</th>\n",
              "      <th>confirmed</th>\n",
              "      <th>deaths</th>\n",
              "    </tr>\n",
              "  </thead>\n",
              "  <tbody>\n",
              "    <tr>\n",
              "      <th>5048</th>\n",
              "      <td>2020-09-29</td>\n",
              "      <td>41748.0</td>\n",
              "      <td>1352.0</td>\n",
              "    </tr>\n",
              "    <tr>\n",
              "      <th>5075</th>\n",
              "      <td>2020-09-30</td>\n",
              "      <td>41882.0</td>\n",
              "      <td>1355.0</td>\n",
              "    </tr>\n",
              "    <tr>\n",
              "      <th>5102</th>\n",
              "      <td>2020-10-01</td>\n",
              "      <td>42006.0</td>\n",
              "      <td>1358.0</td>\n",
              "    </tr>\n",
              "    <tr>\n",
              "      <th>5129</th>\n",
              "      <td>2020-10-02</td>\n",
              "      <td>42109.0</td>\n",
              "      <td>1363.0</td>\n",
              "    </tr>\n",
              "    <tr>\n",
              "      <th>5156</th>\n",
              "      <td>2020-10-03</td>\n",
              "      <td>NaN</td>\n",
              "      <td>NaN</td>\n",
              "    </tr>\n",
              "    <tr>\n",
              "      <th>5183</th>\n",
              "      <td>2020-10-04</td>\n",
              "      <td>42314.0</td>\n",
              "      <td>1366.0</td>\n",
              "    </tr>\n",
              "    <tr>\n",
              "      <th>5210</th>\n",
              "      <td>2020-10-05</td>\n",
              "      <td>42372.0</td>\n",
              "      <td>1375.0</td>\n",
              "    </tr>\n",
              "    <tr>\n",
              "      <th>5237</th>\n",
              "      <td>2020-10-06</td>\n",
              "      <td>42439.0</td>\n",
              "      <td>1380.0</td>\n",
              "    </tr>\n",
              "    <tr>\n",
              "      <th>5264</th>\n",
              "      <td>2020-10-07</td>\n",
              "      <td>42536.0</td>\n",
              "      <td>1384.0</td>\n",
              "    </tr>\n",
              "    <tr>\n",
              "      <th>5291</th>\n",
              "      <td>2020-10-08</td>\n",
              "      <td>42647.0</td>\n",
              "      <td>1390.0</td>\n",
              "    </tr>\n",
              "    <tr>\n",
              "      <th>5318</th>\n",
              "      <td>2020-10-09</td>\n",
              "      <td>42787.0</td>\n",
              "      <td>1392.0</td>\n",
              "    </tr>\n",
              "    <tr>\n",
              "      <th>5345</th>\n",
              "      <td>2020-10-10</td>\n",
              "      <td>42890.0</td>\n",
              "      <td>1395.0</td>\n",
              "    </tr>\n",
              "    <tr>\n",
              "      <th>5372</th>\n",
              "      <td>2020-10-11</td>\n",
              "      <td>42976.0</td>\n",
              "      <td>1397.0</td>\n",
              "    </tr>\n",
              "    <tr>\n",
              "      <th>5399</th>\n",
              "      <td>2020-10-12</td>\n",
              "      <td>43016.0</td>\n",
              "      <td>1400.0</td>\n",
              "    </tr>\n",
              "    <tr>\n",
              "      <th>5426</th>\n",
              "      <td>2020-10-13</td>\n",
              "      <td>43058.0</td>\n",
              "      <td>1402.0</td>\n",
              "    </tr>\n",
              "    <tr>\n",
              "      <th>5453</th>\n",
              "      <td>2020-10-14</td>\n",
              "      <td>43173.0</td>\n",
              "      <td>1411.0</td>\n",
              "    </tr>\n",
              "    <tr>\n",
              "      <th>5480</th>\n",
              "      <td>2020-10-15</td>\n",
              "      <td>43281.0</td>\n",
              "      <td>1415.0</td>\n",
              "    </tr>\n",
              "    <tr>\n",
              "      <th>5507</th>\n",
              "      <td>2020-10-16</td>\n",
              "      <td>43368.0</td>\n",
              "      <td>1418.0</td>\n",
              "    </tr>\n",
              "    <tr>\n",
              "      <th>5534</th>\n",
              "      <td>2020-10-17</td>\n",
              "      <td>43434.0</td>\n",
              "      <td>1418.0</td>\n",
              "    </tr>\n",
              "    <tr>\n",
              "      <th>5561</th>\n",
              "      <td>2020-10-18</td>\n",
              "      <td>43500.0</td>\n",
              "      <td>1421.0</td>\n",
              "    </tr>\n",
              "  </tbody>\n",
              "</table>\n",
              "</div>"
            ],
            "text/plain": [
              "            date  confirmed  deaths\n",
              "5048  2020-09-29    41748.0  1352.0\n",
              "5075  2020-09-30    41882.0  1355.0\n",
              "5102  2020-10-01    42006.0  1358.0\n",
              "5129  2020-10-02    42109.0  1363.0\n",
              "5156  2020-10-03        NaN     NaN\n",
              "5183  2020-10-04    42314.0  1366.0\n",
              "5210  2020-10-05    42372.0  1375.0\n",
              "5237  2020-10-06    42439.0  1380.0\n",
              "5264  2020-10-07    42536.0  1384.0\n",
              "5291  2020-10-08    42647.0  1390.0\n",
              "5318  2020-10-09    42787.0  1392.0\n",
              "5345  2020-10-10    42890.0  1395.0\n",
              "5372  2020-10-11    42976.0  1397.0\n",
              "5399  2020-10-12    43016.0  1400.0\n",
              "5426  2020-10-13    43058.0  1402.0\n",
              "5453  2020-10-14    43173.0  1411.0\n",
              "5480  2020-10-15    43281.0  1415.0\n",
              "5507  2020-10-16    43368.0  1418.0\n",
              "5534  2020-10-17    43434.0  1418.0\n",
              "5561  2020-10-18    43500.0  1421.0"
            ]
          },
          "metadata": {
            "tags": []
          },
          "execution_count": 627
        }
      ]
    },
    {
      "cell_type": "code",
      "metadata": {
        "id": "3ETpY7U8sFOA"
      },
      "source": [
        "data_aqp['date'] = pd.to_datetime(data_aqp['date']).dt.strftime(\"%Y%m%d\").astype(int)\n",
        "aqp_rw = data_aqp.values\n",
        "fecha_lim_aqp = np.where(aqp_rw[:,0]==20200901)\n",
        "\n",
        "new_date_AQP = list(range(len(aqp_rw)))\n",
        "aqp_rw[:,0] = new_date_AQP\n",
        "\n",
        "\n",
        "#Se modifican los nan por el valor del dia anterior\n",
        "aqp_rw[0,2] = 0\n",
        "for i in range(1,len(aqp_rw)):\n",
        "    if(np.isnan(aqp_rw[i,2])):\n",
        "        aqp_rw[i,2] = aqp_rw[i-1,2]\n",
        "aqp_rw[0,1] = 0\n",
        "for i in range(1,len(aqp_rw)):\n",
        "    if(np.isnan(aqp_rw[i,1])):\n",
        "        aqp_rw[i,1] = aqp_rw[i-1,1]\n",
        "\n",
        "index = np.where(np.isnan(aqp_rw))\n",
        "aqp_rw[index] = 0\n",
        "\n",
        "aqp_rw = aqp_rw.astype(np.float32)\n",
        "#aqp_rw[-1,1] = aqp_rw[-2,1] + aqp_rw[-1,1]\n",
        "#aqp_rw[-1,2] = aqp_rw[-2,2] + aqp_rw[-1,2]"
      ],
      "execution_count": 628,
      "outputs": []
    },
    {
      "cell_type": "code",
      "metadata": {
        "id": "AkfU5ZQfso3p",
        "outputId": "8370ba37-91d0-483e-fab8-0826aa97f57c",
        "colab": {
          "base_uri": "https://localhost:8080/",
          "height": 639
        }
      },
      "source": [
        "fig, ax = plt.subplots(1, 2, figsize=(20,10))\n",
        "\n",
        "ax[0].plot(aqp_rw[:,0], aqp_rw[:,1], \"-o\")\n",
        "ax[0].set_title(\"Date_Confirmed\")\n",
        "ax[0].set_xlabel('Contagiados')\n",
        "ax[0].set_ylabel('Dias')\n",
        "\n",
        "ax[1].plot(aqp_rw[:,0], aqp_rw[:,2], \"-o\")\n",
        "ax[1].set_title(\"Date_Deaths\")\n",
        "ax[1].set_xlabel('Muertes')\n",
        "ax[1].set_ylabel('Dias')"
      ],
      "execution_count": 629,
      "outputs": [
        {
          "output_type": "execute_result",
          "data": {
            "text/plain": [
              "Text(0, 0.5, 'Dias')"
            ]
          },
          "metadata": {
            "tags": []
          },
          "execution_count": 629
        },
        {
          "output_type": "display_data",
          "data": {
            "image/png": "[encoded data removed]",
            "text/plain": [
              "<Figure size 1440x720 with 2 Axes>"
            ]
          },
          "metadata": {
            "tags": [],
            "needs_background": "light"
          }
        }
      ]
    },
    {
      "cell_type": "code",
      "metadata": {
        "id": "jBnQI7I4s1u4",
        "outputId": "0a8e6a41-48c7-4323-e5e4-016fc4234f8c",
        "colab": {
          "base_uri": "https://localhost:8080/",
          "height": 54
        }
      },
      "source": [
        "aqp_rw, media_aqp, std_aqp = Normalizar_datos(aqp_rw)\n",
        "train_set_AQP, test_set_AQP = np.split(aqp_rw,fecha_lim_aqp[0])\n",
        "print(train_set_AQP.shape, test_set_AQP.shape)\n",
        "train_AQP_x, train_AQP_y, test_AQP_x, test_AQP_y = Adaptar_conjuntos(train_set_AQP, test_set_AQP)\n",
        "Theta_AQP = np.zeros(train_AQP_x.shape[1])[np.newaxis]"
      ],
      "execution_count": 630,
      "outputs": [
        {
          "output_type": "stream",
          "text": [
            "[  109.5    14429.032    516.7682] [   63.507874 15574.838      538.41644 ]\n",
            "(172, 3) (48, 3)\n"
          ],
          "name": "stdout"
        }
      ]
    },
    {
      "cell_type": "code",
      "metadata": {
        "id": "u_NaUNmptVlY",
        "outputId": "a53e2dd7-5446-4914-934a-aaf1395dac77",
        "colab": {
          "base_uri": "https://localhost:8080/",
          "height": 283
        }
      },
      "source": [
        "newTheta_AQP, costos_AQP = Gradiente_Descendiente(train_AQP_x, train_AQP_y, Theta_AQP, 2500, 0.1)\n",
        "plt.scatter(np.arange(2500), costos_AQP, alpha=0.8, c=\"purple\", s=5)"
      ],
      "execution_count": 631,
      "outputs": [
        {
          "output_type": "execute_result",
          "data": {
            "text/plain": [
              "<matplotlib.collections.PathCollection at 0x7f3def348208>"
            ]
          },
          "metadata": {
            "tags": []
          },
          "execution_count": 631
        },
        {
          "output_type": "display_data",
          "data": {
            "image/png": "[encoded data removed]",
            "text/plain": [
              "<Figure size 432x288 with 1 Axes>"
            ]
          },
          "metadata": {
            "tags": [],
            "needs_background": "light"
          }
        }
      ]
    },
    {
      "cell_type": "code",
      "metadata": {
        "id": "gUF53c-9tlE7",
        "outputId": "8a8416b0-21d8-4c3f-b7cf-b611d9aae8e3",
        "colab": {
          "base_uri": "https://localhost:8080/",
          "height": 297
        }
      },
      "source": [
        "AQP_y_test = test_AQP_x.dot(newTheta_AQP.T)\n",
        "\n",
        "plt.plot(aqp_rw[:,0], aqp_rw[:,-1]*std_aqp[2]+media_aqp[2],'-o')\n",
        "plt.plot(test_AQP_x[:,1], AQP_y_test*std_aqp[2]+media_aqp[2],'-o')\n",
        "plt.xlabel('Dias')\n",
        "plt.ylabel('Nuevas Muertes')"
      ],
      "execution_count": 632,
      "outputs": [
        {
          "output_type": "execute_result",
          "data": {
            "text/plain": [
              "Text(0, 0.5, 'Nuevas Muertes')"
            ]
          },
          "metadata": {
            "tags": []
          },
          "execution_count": 632
        },
        {
          "output_type": "display_data",
          "data": {
            "image/png": "[encoded data removed]",
            "text/plain": [
              "<Figure size 432x288 with 1 Axes>"
            ]
          },
          "metadata": {
            "tags": [],
            "needs_background": "light"
          }
        }
      ]
    },
    {
      "cell_type": "code",
      "metadata": {
        "id": "ljVYyug1t5Ph",
        "outputId": "8b3f9077-a564-4857-a865-54e7d12fa540",
        "colab": {
          "base_uri": "https://localhost:8080/",
          "height": 54
        }
      },
      "source": [
        "print ('MSE', mean_squared_error(test_AQP_y, AQP_y_test))\n",
        "print ('RMSE', sqrt(mean_squared_error(test_AQP_y, AQP_y_test)))"
      ],
      "execution_count": 633,
      "outputs": [
        {
          "output_type": "stream",
          "text": [
            "MSE 0.2846360407719242\n",
            "RMSE 0.5335129246531186\n"
          ],
          "name": "stdout"
        }
      ]
    },
    {
      "cell_type": "code",
      "metadata": {
        "id": "4HJIrUVTuFAv"
      },
      "source": [
        "aqp_rw = data_aqp.values.astype(np.float32)\n",
        "futuro_AQP = 11\n",
        "cnt_real_AQP = len(aqp_rw)\n",
        "\n",
        "new_date_AQP = np.arange(cnt_real_AQP + futuro_AQP)\n",
        "new_date_AQP+=1\n",
        "\n",
        "aqp_rw_Pred = np.empty((cnt_real_AQP + futuro_AQP, aqp_rw.shape[1]))\n",
        "aqp_rw_Pred[:,0] = new_date_AQP\n",
        "aqp_rw = aqp_rw.astype(np.float32)\n",
        "#aqp_rw[-1,1] = aqp_rw[-2,1] + aqp_rw[-1,1]\n",
        "#aqp_rw[-1,2] = aqp_rw[-2,2] + aqp_rw[-1,2]"
      ],
      "execution_count": 634,
      "outputs": []
    },
    {
      "cell_type": "code",
      "metadata": {
        "id": "HyabrFfduPjP",
        "outputId": "52df59ec-9152-4510-fa3d-3e54481727c1",
        "colab": {
          "base_uri": "https://localhost:8080/",
          "height": 35
        }
      },
      "source": [
        "crecimiento_AQP = np.empty(len(aqp_rw)-1)\n",
        "#crecimiento_AQP = np.zeros(aqp_rw.shape)\n",
        "for i in range(1,len(aqp_rw)):\n",
        "    crecimiento_AQP[i-1] = aqp_rw[i,1] / aqp_rw[i-1,1]\n",
        "av_crecimiento_AQP = np.mean(crecimiento_AQP[-10:])\n",
        "av_crecimiento_AQP"
      ],
      "execution_count": 635,
      "outputs": [
        {
          "output_type": "execute_result",
          "data": {
            "text/plain": [
              "1.001982617378235"
            ]
          },
          "metadata": {
            "tags": []
          },
          "execution_count": 635
        }
      ]
    },
    {
      "cell_type": "code",
      "metadata": {
        "id": "9IvIiag3uSDH",
        "outputId": "805e50a3-2b7c-4cb2-c3aa-510c84a9f506",
        "colab": {
          "base_uri": "https://localhost:8080/",
          "height": 35
        }
      },
      "source": [
        "aqp_rw[0,2] = 0\n",
        "for i in range(1,len(aqp_rw)):\n",
        "    if(np.isnan(aqp_rw[i,2])):\n",
        "        aqp_rw[i,2] = aqp_rw[i-1,2]\n",
        "\n",
        "AQP_future_confirmed = np.empty((futuro_AQP,1))\n",
        "AQP_future_deaths = np.empty((futuro_AQP,1))\n",
        "AQP_future_deaths[:] = np.nan\n",
        "\n",
        "AQP_future_confirmed[0] = aqp_rw[-1,1] * av_crecimiento_AQP\n",
        "for i in range(1, futuro_AQP):\n",
        "    AQP_future_confirmed[i] = AQP_future_confirmed[i-1] * av_crecimiento_AQP\n",
        "\n",
        "print (aqp_rw_Pred.shape)\n",
        "\n",
        "aqp_rw_Pred[:,0] = new_date_AQP\n",
        "aqp_rw_Pred[:cnt_real_AQP,1] = aqp_rw[:,1]\n",
        "aqp_rw_Pred[:cnt_real_AQP,2] = aqp_rw[:,2]\n",
        "aqp_rw_Pred[cnt_real_AQP:,1] = AQP_future_confirmed.T\n",
        "aqp_rw_Pred[cnt_real_AQP:,2] = AQP_future_deaths.T"
      ],
      "execution_count": 636,
      "outputs": [
        {
          "output_type": "stream",
          "text": [
            "(231, 3)\n"
          ],
          "name": "stdout"
        }
      ]
    },
    {
      "cell_type": "code",
      "metadata": {
        "id": "f1VduzxpucTB",
        "outputId": "99350616-cfc7-448c-8a0c-c01c81d0ba4a",
        "colab": {
          "base_uri": "https://localhost:8080/",
          "height": 54
        }
      },
      "source": [
        "aqp_rw_Pred, mean_AQP, std_AQP = Normalizar_datos(aqp_rw_Pred)\n",
        "ptr = np.append (fecha_lim_aqp[0],[cnt_real_AQP])\n",
        "train_set_AQP_P, test_set_AQP_P, pred_set_AQP = np.split(aqp_rw_Pred, ptr)\n",
        "print(train_set_AQP_P.shape, test_set_AQP_P.shape, pred_set_AQP.shape)\n",
        "\n",
        "train_AQP_x, train_AQP_y, test_AQP_x, test_AQP_y = Adaptar_conjuntos(train_set_AQP_P, test_set_AQP_P)\n",
        "# Theta_DCD = np.zeros(train_DCD_x.shape[1])[np.newaxis]\n",
        "\n",
        "pred_AQP_x = pred_set_AQP[:,0:-1]\n",
        "pred_AQP_x = np.insert(pred_AQP_x, 0, 1, axis=1)"
      ],
      "execution_count": 637,
      "outputs": [
        {
          "output_type": "stream",
          "text": [
            "[  116.         15586.35502364   516.76818182] [   66.68333125 16456.70310466   538.41641192]\n",
            "(172, 3) (48, 3) (11, 3)\n"
          ],
          "name": "stdout"
        }
      ]
    },
    {
      "cell_type": "code",
      "metadata": {
        "id": "Ziun796pufpf",
        "outputId": "0ddc28ee-5ecb-47ac-ddd7-bd50ff34bd14",
        "colab": {
          "base_uri": "https://localhost:8080/",
          "height": 313
        }
      },
      "source": [
        "AQP_y_pred = pred_AQP_x.dot(newTheta_AQP.T)\n",
        "\n",
        "dif_x = test_AQP_x[-1,1] - pred_AQP_x[0,1]\n",
        "dif_y = test_AQP_y[-1] - AQP_y_pred[0]\n",
        "\n",
        "pred_AQP_x[:,1] += dif_x\n",
        "AQP_y_pred += dif_y\n",
        "\n",
        "plt.plot(train_AQP_x[:,1], train_AQP_y*std_aqp[2]+mean_AQP[2], \"-o\",label='desde 2020-03-06 hasta 2020-08-31')\n",
        "plt.plot(test_AQP_x[:,1], test_AQP_y*std_aqp[2]+mean_AQP[2],\"-o\",color=\"red\",label='desde 2020-09-01 hasta 2020-10-18')\n",
        "plt.plot(pred_AQP_x[:,1], AQP_y_pred*std_aqp[2]+mean_AQP[2], \"-o\",color=\"green\",label='desde 2020-10-19 hasta 2020-10-29')\n",
        "\n",
        "plt.title(\"Muertes Predicción\")\n",
        "plt.ylabel('Muertes')\n",
        "plt.xlabel('Dias')\n",
        "plt.legend()"
      ],
      "execution_count": 638,
      "outputs": [
        {
          "output_type": "execute_result",
          "data": {
            "text/plain": [
              "<matplotlib.legend.Legend at 0x7f3deedfc320>"
            ]
          },
          "metadata": {
            "tags": []
          },
          "execution_count": 638
        },
        {
          "output_type": "display_data",
          "data": {
            "image/png": "[encoded data removed]",
            "text/plain": [
              "<Figure size 432x288 with 1 Axes>"
            ]
          },
          "metadata": {
            "tags": [],
            "needs_background": "light"
          }
        }
      ]
    },
    {
      "cell_type": "code",
      "metadata": {
        "id": "Mmm73sO0up4B",
        "outputId": "ca97c046-f386-4eb1-808d-9c00a151b647",
        "colab": {
          "base_uri": "https://localhost:8080/",
          "height": 54
        }
      },
      "source": [
        "real_pred_AQP = np.rint(AQP_y_pred*std_AQP[2]+mean_AQP[2])\n",
        "real_pred_AQP.T"
      ],
      "execution_count": 639,
      "outputs": [
        {
          "output_type": "execute_result",
          "data": {
            "text/plain": [
              "array([[1421., 1425., 1429., 1433., 1436., 1440., 1444., 1448., 1452.,\n",
              "        1456., 1460.]])"
            ]
          },
          "metadata": {
            "tags": []
          },
          "execution_count": 639
        }
      ]
    }
  ]
}